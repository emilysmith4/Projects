{
 "cells": [
  {
   "cell_type": "code",
   "execution_count": 37,
   "metadata": {},
   "outputs": [],
   "source": [
    "import pandas as pd\n",
    "import json\n",
    "import numpy as np\n",
    "pd.set_option('display.max_rows', None)"
   ]
  },
  {
   "cell_type": "code",
   "execution_count": null,
   "metadata": {},
   "outputs": [],
   "source": [
    "orders = pd.read_csv('true.csv', header=None, quotechar=\"'\")\n",
    "orders = orders.rename(columns={0: \"order_id\", 1: \"owner_name\", 2:\"is_developer\", 3:\"time_created\", 4:\"items\"})\n",
    "orders.head()"
   ]
  },
  {
   "cell_type": "markdown",
   "metadata": {},
   "source": [
    "### Creating \"Item_Type\" Column"
   ]
  },
  {
   "cell_type": "code",
   "execution_count": 3,
   "metadata": {},
   "outputs": [],
   "source": [
    "items = []\n",
    "for i in range(len(orders)):\n",
    "    items.append([])"
   ]
  },
  {
   "cell_type": "code",
   "execution_count": 4,
   "metadata": {},
   "outputs": [],
   "source": [
    "for i in np.arange(len(orders)):\n",
    "    item_dict = json.loads(orders['items'][i])\n",
    "    for nickname, item in item_dict.items():\n",
    "        item_type = item['type']\n",
    "        items[i].append(item_type)"
   ]
  },
  {
   "cell_type": "code",
   "execution_count": 5,
   "metadata": {},
   "outputs": [],
   "source": [
    "orders['item_type'] = items"
   ]
  },
  {
   "cell_type": "markdown",
   "metadata": {},
   "source": [
    "### Creating 'requirements' column"
   ]
  },
  {
   "cell_type": "code",
   "execution_count": 6,
   "metadata": {},
   "outputs": [],
   "source": [
    "reqs = []\n",
    "for i in range(len(orders)):\n",
    "    reqs.append([])"
   ]
  },
  {
   "cell_type": "code",
   "execution_count": 7,
   "metadata": {},
   "outputs": [],
   "source": [
    "for i in np.arange(len(orders)):\n",
    "    item_dict = json.loads(orders['items'][i])\n",
    "    for nickname, item in item_dict.items():\n",
    "        reqs[i].append(item_dict[nickname]['requirements'])"
   ]
  },
  {
   "cell_type": "code",
   "execution_count": 8,
   "metadata": {},
   "outputs": [],
   "source": [
    "orders['requirements'] = reqs"
   ]
  },
  {
   "cell_type": "code",
   "execution_count": 11,
   "metadata": {},
   "outputs": [
    {
     "data": {
      "text/plain": [
       "{'cdm_cluster',\n",
       " 'cdm_node',\n",
       " 'config',\n",
       " 'cookbook_item',\n",
       " 'esx_host',\n",
       " 'grafana_node',\n",
       " 'ip_address',\n",
       " 'mssql_server',\n",
       " 'nfs_ds_vm',\n",
       " 'release_qual_baton',\n",
       " 'rktest_yml',\n",
       " 's3_bucket',\n",
       " 'sd_dev_machine',\n",
       " 'ubuntu_machine',\n",
       " 'vm_machine'}"
      ]
     },
     "execution_count": 11,
     "metadata": {},
     "output_type": "execute_result"
    }
   ],
   "source": [
    "item_set = set()\n",
    "for i in orders['item_type']:\n",
    "    for j in i:\n",
    "        item_set.add(j)\n",
    "item_set"
   ]
  },
  {
   "cell_type": "code",
   "execution_count": 12,
   "metadata": {},
   "outputs": [
    {
     "name": "stdout",
     "output_type": "stream",
     "text": [
      "config  :  28.189666681500604 %\n",
      "cdm_cluster  :  37.85990832628722 %\n",
      "grafana_node  :  0.09567887499443728 %\n",
      "ubuntu_machine  :  1.766721552222865 %\n",
      "vm_machine  :  13.036802990521116 %\n",
      "s3_bucket  :  0.031151261626095855 %\n",
      "ip_address  :  1.5442125406078946 %\n",
      "release_qual_baton  :  0.01112545058074852 %\n",
      "cookbook_item  :  0.24475991277646747 %\n",
      "cdm_node  :  0.08232833429753905 %\n",
      "esx_host  :  5.148858528770415 %\n",
      "nfs_ds_vm  :  0.01780072092919763 %\n",
      "sd_dev_machine  :  45.47194161363535 %\n",
      "rktest_yml  :  4.73944194739887 %\n",
      "mssql_server  :  0.1646566685950781 %\n"
     ]
    }
   ],
   "source": [
    "order_cnt = len(orders)\n",
    "for i in item_set:\n",
    "    count = 0\n",
    "    for j in orders['items']:\n",
    "        if i in j:\n",
    "            count+=1\n",
    "    print(i, ' : ', count/order_cnt*100, \"%\")"
   ]
  },
  {
   "cell_type": "markdown",
   "metadata": {},
   "source": [
    "## Looking at cdm_cluster"
   ]
  },
  {
   "cell_type": "code",
   "execution_count": 13,
   "metadata": {},
   "outputs": [],
   "source": [
    "booly = []\n",
    "for i in orders['item_type']:\n",
    "    if 'cdm_cluster' in i:\n",
    "        booly.append(True)\n",
    "    else:\n",
    "        booly.append(False)"
   ]
  },
  {
   "cell_type": "code",
   "execution_count": null,
   "metadata": {
    "scrolled": true
   },
   "outputs": [],
   "source": [
    "cdm_clust = orders[booly]\n",
    "cdm_clust.head()"
   ]
  },
  {
   "cell_type": "code",
   "execution_count": null,
   "metadata": {
    "scrolled": true
   },
   "outputs": [],
   "source": [
    "cdm_clust['item_str'] = cdm_clust['item_type'].apply(', '.join)"
   ]
  },
  {
   "cell_type": "code",
   "execution_count": 16,
   "metadata": {
    "scrolled": true
   },
   "outputs": [
    {
     "data": {
      "text/html": [
       "<div>\n",
       "<style scoped>\n",
       "    .dataframe tbody tr th:only-of-type {\n",
       "        vertical-align: middle;\n",
       "    }\n",
       "\n",
       "    .dataframe tbody tr th {\n",
       "        vertical-align: top;\n",
       "    }\n",
       "\n",
       "    .dataframe thead th {\n",
       "        text-align: right;\n",
       "    }\n",
       "</style>\n",
       "<table border=\"1\" class=\"dataframe\">\n",
       "  <thead>\n",
       "    <tr style=\"text-align: right;\">\n",
       "      <th></th>\n",
       "      <th>0</th>\n",
       "    </tr>\n",
       "    <tr>\n",
       "      <th>item_str</th>\n",
       "      <th></th>\n",
       "    </tr>\n",
       "  </thead>\n",
       "  <tbody>\n",
       "    <tr>\n",
       "      <th>cdm_cluster</th>\n",
       "      <td>84.107206</td>\n",
       "    </tr>\n",
       "    <tr>\n",
       "      <th>cdm_cluster, vm_machine</th>\n",
       "      <td>2.368638</td>\n",
       "    </tr>\n",
       "    <tr>\n",
       "      <th>sd_dev_machine, cdm_cluster</th>\n",
       "      <td>1.545786</td>\n",
       "    </tr>\n",
       "    <tr>\n",
       "      <th>cdm_cluster, cdm_cluster</th>\n",
       "      <td>1.363583</td>\n",
       "    </tr>\n",
       "    <tr>\n",
       "      <th>sd_dev_machine, cdm_cluster, vm_machine, vm_machine</th>\n",
       "      <td>1.181380</td>\n",
       "    </tr>\n",
       "  </tbody>\n",
       "</table>\n",
       "</div>"
      ],
      "text/plain": [
       "                                                            0\n",
       "item_str                                                     \n",
       "cdm_cluster                                         84.107206\n",
       "cdm_cluster, vm_machine                              2.368638\n",
       "sd_dev_machine, cdm_cluster                          1.545786\n",
       "cdm_cluster, cdm_cluster                             1.363583\n",
       "sd_dev_machine, cdm_cluster, vm_machine, vm_mac...   1.181380"
      ]
     },
     "execution_count": 16,
     "metadata": {},
     "output_type": "execute_result"
    }
   ],
   "source": [
    "dist = (cdm_clust.groupby('item_str').size().to_frame()/len(cdm_clust)*100).sort_values(0, ascending=False)\n",
    "dist.head()"
   ]
  },
  {
   "cell_type": "code",
   "execution_count": 17,
   "metadata": {},
   "outputs": [],
   "source": [
    "cdm_clust_list = ['cdm_cluster']*len(cdm_clust)"
   ]
  },
  {
   "cell_type": "code",
   "execution_count": null,
   "metadata": {},
   "outputs": [],
   "source": [
    "cdm_clust['item_type_specific'] = cdm_clust_list"
   ]
  },
  {
   "cell_type": "code",
   "execution_count": 19,
   "metadata": {},
   "outputs": [],
   "source": [
    "cdm_clust = cdm_clust.reset_index(drop=True)"
   ]
  },
  {
   "cell_type": "code",
   "execution_count": 21,
   "metadata": {},
   "outputs": [],
   "source": [
    "cdm_reqs = []\n",
    "for i in range(len(cdm_clust['requirements'])):\n",
    "    index = cdm_clust['item_type'][i].index('cdm_cluster')\n",
    "    dicty = cdm_clust['requirements'][i][index]\n",
    "    cdm_reqs.append(dicty)"
   ]
  },
  {
   "cell_type": "code",
   "execution_count": 22,
   "metadata": {},
   "outputs": [],
   "source": [
    "cdm_clust['cdm_reqs'] = cdm_reqs"
   ]
  },
  {
   "cell_type": "markdown",
   "metadata": {},
   "source": [
    "Below is code to parse through order requirements previously stored in a dictionary"
   ]
  },
  {
   "cell_type": "code",
   "execution_count": 23,
   "metadata": {},
   "outputs": [],
   "source": [
    "cdm_clust_temp = cdm_clust[['order_id','time_created','item_type_specific', 'cdm_reqs']]"
   ]
  },
  {
   "cell_type": "code",
   "execution_count": 24,
   "metadata": {},
   "outputs": [],
   "source": [
    "flatten = cdm_clust_temp.cdm_reqs.apply(pd.Series)"
   ]
  },
  {
   "cell_type": "code",
   "execution_count": 25,
   "metadata": {},
   "outputs": [],
   "source": [
    "cdm_clust = pd.concat([cdm_clust_temp[['order_id', 'time_created','item_type_specific']], flatten], axis=1)"
   ]
  },
  {
   "cell_type": "markdown",
   "metadata": {},
   "source": [
    "These are all the possible requirement for this type of cluster and the percentage of time they are left blank when placing an order."
   ]
  },
  {
   "cell_type": "code",
   "execution_count": 27,
   "metadata": {
    "scrolled": false
   },
   "outputs": [
    {
     "name": "stdout",
     "output_type": "stream",
     "text": [
      "artifacts_url  :  89.35582461502293\n",
      "location  :  0.0\n",
      "model  :  0.0\n",
      "network  :  49.54743152697778\n",
      "node_count  :  0.0\n",
      "has_ipv6  :  0.0\n",
      "test_mode  :  84.07194075467262\n",
      "low_latency  :  71.44704361114377\n",
      "version  :  94.7161161396497\n",
      "disk_size  :  99.7648994945339\n",
      "disk_type  :  99.75902198189726\n",
      "provider  :  15.910426707417422\n",
      "form  :  15.910426707417422\n",
      "mode  :  15.910426707417422\n",
      "tags  :  15.910426707417422\n",
      "software  :  15.910426707417422\n",
      "nodes  :  15.910426707417422\n",
      "old_requirements  :  15.910426707417422\n",
      "drs  :  99.81191959562713\n"
     ]
    }
   ],
   "source": [
    "# Percent Null\n",
    "\n",
    "for i in list(cdm_clust.columns[3:]):\n",
    "    percent = sum(cdm_clust[i].isnull())/(len(cdm_clust))*100\n",
    "    print(i, \" : \", percent)"
   ]
  },
  {
   "cell_type": "code",
   "execution_count": 28,
   "metadata": {},
   "outputs": [],
   "source": [
    "cdm_clust['location'] = cdm_clust['location'].str.lower()"
   ]
  },
  {
   "cell_type": "code",
   "execution_count": null,
   "metadata": {},
   "outputs": [],
   "source": []
  },
  {
   "cell_type": "code",
   "execution_count": null,
   "metadata": {},
   "outputs": [],
   "source": []
  },
  {
   "cell_type": "markdown",
   "metadata": {},
   "source": [
    "### Specified Nodes and Old Requirements"
   ]
  },
  {
   "cell_type": "code",
   "execution_count": null,
   "metadata": {
    "scrolled": true
   },
   "outputs": [],
   "source": [
    "spec = cdm_clust[(cdm_clust.drs.notnull()) & (cdm_clust.old_requirements.notnull()) & (cdm_clust.tags.notnull())]\n",
    "spec.head()"
   ]
  },
  {
   "cell_type": "code",
   "execution_count": 59,
   "metadata": {},
   "outputs": [],
   "source": [
    "grouped = spec.groupby(['artifacts_url','location', 'network', 'node_count', 'low_latency', 'has_ipv6', 'model', 'form', 'provider', 'mode', 'test_mode', 'version', 'disk_size', 'disk_type', 'software', 'drs'], dropna=False).size().to_frame()"
   ]
  },
  {
   "cell_type": "code",
   "execution_count": null,
   "metadata": {},
   "outputs": [],
   "source": [
    "percents = grouped/grouped[0].sum()*100\n",
    "percents.sort_values(by=0, ascending=False).head(10)"
   ]
  },
  {
   "cell_type": "code",
   "execution_count": null,
   "metadata": {},
   "outputs": [],
   "source": []
  },
  {
   "cell_type": "markdown",
   "metadata": {},
   "source": [
    "### No Old_Requirements or Nodes"
   ]
  },
  {
   "cell_type": "code",
   "execution_count": 64,
   "metadata": {},
   "outputs": [],
   "source": [
    "nospec = cdm_clust[(cdm_clust.drs.isnull()) & (cdm_clust.old_requirements.isnull()) & (cdm_clust.tags.isnull())]"
   ]
  },
  {
   "cell_type": "code",
   "execution_count": 65,
   "metadata": {},
   "outputs": [],
   "source": [
    "grouped = nospec.groupby(['artifacts_url','location', 'network', 'node_count', 'low_latency', 'has_ipv6', 'model', 'form', 'provider', 'mode', 'test_mode', 'version', 'disk_size', 'disk_type', 'software', 'drs'], dropna=False).size().to_frame()"
   ]
  },
  {
   "cell_type": "code",
   "execution_count": null,
   "metadata": {},
   "outputs": [],
   "source": [
    "percents = grouped/grouped[0].sum()*100\n",
    "percents.sort_values(by=0, ascending=False).head(10)"
   ]
  },
  {
   "cell_type": "code",
   "execution_count": null,
   "metadata": {},
   "outputs": [],
   "source": []
  },
  {
   "cell_type": "code",
   "execution_count": null,
   "metadata": {},
   "outputs": [],
   "source": []
  },
  {
   "cell_type": "markdown",
   "metadata": {},
   "source": [
    "### All Data"
   ]
  },
  {
   "cell_type": "code",
   "execution_count": 56,
   "metadata": {},
   "outputs": [],
   "source": [
    "grouped = cdm_clust.groupby(['artifacts_url','location', 'network', 'node_count', 'low_latency', 'has_ipv6', 'model', 'form', 'provider', 'mode', 'test_mode', 'version', 'disk_size', 'disk_type', 'software', 'drs'], dropna=False).size().to_frame()"
   ]
  },
  {
   "cell_type": "code",
   "execution_count": 57,
   "metadata": {},
   "outputs": [
    {
     "data": {
      "text/html": [
       "<div>\n",
       "<style scoped>\n",
       "    .dataframe tbody tr th:only-of-type {\n",
       "        vertical-align: middle;\n",
       "    }\n",
       "\n",
       "    .dataframe tbody tr th {\n",
       "        vertical-align: top;\n",
       "    }\n",
       "\n",
       "    .dataframe thead th {\n",
       "        text-align: right;\n",
       "    }\n",
       "</style>\n",
       "<table border=\"1\" class=\"dataframe\">\n",
       "  <thead>\n",
       "    <tr style=\"text-align: right;\">\n",
       "      <th></th>\n",
       "      <th></th>\n",
       "      <th></th>\n",
       "      <th></th>\n",
       "      <th></th>\n",
       "      <th></th>\n",
       "      <th></th>\n",
       "      <th></th>\n",
       "      <th></th>\n",
       "      <th></th>\n",
       "      <th></th>\n",
       "      <th></th>\n",
       "      <th></th>\n",
       "      <th></th>\n",
       "      <th></th>\n",
       "      <th></th>\n",
       "      <th>0</th>\n",
       "    </tr>\n",
       "    <tr>\n",
       "      <th>artifacts_url</th>\n",
       "      <th>location</th>\n",
       "      <th>network</th>\n",
       "      <th>node_count</th>\n",
       "      <th>low_latency</th>\n",
       "      <th>has_ipv6</th>\n",
       "      <th>model</th>\n",
       "      <th>form</th>\n",
       "      <th>provider</th>\n",
       "      <th>mode</th>\n",
       "      <th>test_mode</th>\n",
       "      <th>version</th>\n",
       "      <th>disk_size</th>\n",
       "      <th>disk_type</th>\n",
       "      <th>software</th>\n",
       "      <th>drs</th>\n",
       "      <th></th>\n",
       "    </tr>\n",
       "  </thead>\n",
       "  <tbody>\n",
       "    <tr>\n",
       "      <th rowspan=\"10\" valign=\"top\">NaN</th>\n",
       "      <th rowspan=\"10\" valign=\"top\">colo</th>\n",
       "      <th>NaN</th>\n",
       "      <th>1</th>\n",
       "      <th>NaN</th>\n",
       "      <th>False</th>\n",
       "      <th>justvm-vmware-standard</th>\n",
       "      <th>virtual</th>\n",
       "      <th>justvm</th>\n",
       "      <th>test</th>\n",
       "      <th>NaN</th>\n",
       "      <th>NaN</th>\n",
       "      <th>NaN</th>\n",
       "      <th>NaN</th>\n",
       "      <th>released_version://master</th>\n",
       "      <th>NaN</th>\n",
       "      <td>24.009639</td>\n",
       "    </tr>\n",
       "    <tr>\n",
       "      <th rowspan=\"2\" valign=\"top\">native</th>\n",
       "      <th rowspan=\"2\" valign=\"top\">1</th>\n",
       "      <th>NaN</th>\n",
       "      <th>False</th>\n",
       "      <th>justvm-vmware-standard</th>\n",
       "      <th>virtual</th>\n",
       "      <th>justvm</th>\n",
       "      <th>test</th>\n",
       "      <th>NaN</th>\n",
       "      <th>NaN</th>\n",
       "      <th>NaN</th>\n",
       "      <th>NaN</th>\n",
       "      <th>released_version://master</th>\n",
       "      <th>NaN</th>\n",
       "      <td>7.382156</td>\n",
       "    </tr>\n",
       "    <tr>\n",
       "      <th>True</th>\n",
       "      <th>False</th>\n",
       "      <th>justvm-vmware-standard</th>\n",
       "      <th>NaN</th>\n",
       "      <th>NaN</th>\n",
       "      <th>NaN</th>\n",
       "      <th>True</th>\n",
       "      <th>master</th>\n",
       "      <th>NaN</th>\n",
       "      <th>NaN</th>\n",
       "      <th>NaN</th>\n",
       "      <th>NaN</th>\n",
       "      <td>3.685200</td>\n",
       "    </tr>\n",
       "    <tr>\n",
       "      <th rowspan=\"3\" valign=\"top\">NaN</th>\n",
       "      <th rowspan=\"3\" valign=\"top\">1</th>\n",
       "      <th>False</th>\n",
       "      <th>False</th>\n",
       "      <th>justvm-vmware-standard</th>\n",
       "      <th>virtual</th>\n",
       "      <th>justvm</th>\n",
       "      <th>test</th>\n",
       "      <th>NaN</th>\n",
       "      <th>NaN</th>\n",
       "      <th>NaN</th>\n",
       "      <th>NaN</th>\n",
       "      <th>released_version://master</th>\n",
       "      <th>NaN</th>\n",
       "      <td>2.862349</td>\n",
       "    </tr>\n",
       "    <tr>\n",
       "      <th rowspan=\"2\" valign=\"top\">NaN</th>\n",
       "      <th rowspan=\"2\" valign=\"top\">False</th>\n",
       "      <th rowspan=\"2\" valign=\"top\">justvm-vmware-standard</th>\n",
       "      <th rowspan=\"2\" valign=\"top\">virtual</th>\n",
       "      <th rowspan=\"2\" valign=\"top\">justvm</th>\n",
       "      <th rowspan=\"2\" valign=\"top\">test</th>\n",
       "      <th rowspan=\"2\" valign=\"top\">NaN</th>\n",
       "      <th rowspan=\"2\" valign=\"top\">NaN</th>\n",
       "      <th rowspan=\"2\" valign=\"top\">NaN</th>\n",
       "      <th rowspan=\"2\" valign=\"top\">NaN</th>\n",
       "      <th>released_version://5.3</th>\n",
       "      <th>NaN</th>\n",
       "      <td>2.439168</td>\n",
       "    </tr>\n",
       "    <tr>\n",
       "      <th>released_version://5.2</th>\n",
       "      <th>NaN</th>\n",
       "      <td>2.157047</td>\n",
       "    </tr>\n",
       "    <tr>\n",
       "      <th rowspan=\"4\" valign=\"top\">native</th>\n",
       "      <th rowspan=\"4\" valign=\"top\">1</th>\n",
       "      <th>NaN</th>\n",
       "      <th>False</th>\n",
       "      <th>justvm-vmware-standard</th>\n",
       "      <th>virtual</th>\n",
       "      <th>justvm</th>\n",
       "      <th>test</th>\n",
       "      <th>NaN</th>\n",
       "      <th>NaN</th>\n",
       "      <th>NaN</th>\n",
       "      <th>NaN</th>\n",
       "      <th>released_version://5.3</th>\n",
       "      <th>NaN</th>\n",
       "      <td>1.927824</td>\n",
       "    </tr>\n",
       "    <tr>\n",
       "      <th>False</th>\n",
       "      <th>False</th>\n",
       "      <th>justvm-vmware-standard</th>\n",
       "      <th>virtual</th>\n",
       "      <th>justvm</th>\n",
       "      <th>test</th>\n",
       "      <th>NaN</th>\n",
       "      <th>NaN</th>\n",
       "      <th>NaN</th>\n",
       "      <th>NaN</th>\n",
       "      <th>released_version://master</th>\n",
       "      <th>NaN</th>\n",
       "      <td>1.216645</td>\n",
       "    </tr>\n",
       "    <tr>\n",
       "      <th>NaN</th>\n",
       "      <th>False</th>\n",
       "      <th>justvm-vmware-standard</th>\n",
       "      <th>virtual</th>\n",
       "      <th>justvm</th>\n",
       "      <th>test</th>\n",
       "      <th>NaN</th>\n",
       "      <th>NaN</th>\n",
       "      <th>NaN</th>\n",
       "      <th>NaN</th>\n",
       "      <th>released_version://5.2</th>\n",
       "      <th>NaN</th>\n",
       "      <td>1.116727</td>\n",
       "    </tr>\n",
       "    <tr>\n",
       "      <th>True</th>\n",
       "      <th>False</th>\n",
       "      <th>justvm-vmware-standard</th>\n",
       "      <th>NaN</th>\n",
       "      <th>NaN</th>\n",
       "      <th>NaN</th>\n",
       "      <th>True</th>\n",
       "      <th>5.2</th>\n",
       "      <th>NaN</th>\n",
       "      <th>NaN</th>\n",
       "      <th>NaN</th>\n",
       "      <th>NaN</th>\n",
       "      <td>0.893382</td>\n",
       "    </tr>\n",
       "  </tbody>\n",
       "</table>\n",
       "</div>"
      ],
      "text/plain": [
       "                                                                                                                                                                                         0\n",
       "artifacts_url location network node_count low_latency has_ipv6 model                  form    provider mode test_mode version disk_size disk_type software                  drs           \n",
       "NaN           colo     NaN     1          NaN         False    justvm-vmware-standard virtual justvm   test NaN       NaN     NaN       NaN       released_version://master NaN  24.009639\n",
       "                       native  1          NaN         False    justvm-vmware-standard virtual justvm   test NaN       NaN     NaN       NaN       released_version://master NaN   7.382156\n",
       "                                          True        False    justvm-vmware-standard NaN     NaN      NaN  True      master  NaN       NaN       NaN                       NaN   3.685200\n",
       "                       NaN     1          False       False    justvm-vmware-standard virtual justvm   test NaN       NaN     NaN       NaN       released_version://master NaN   2.862349\n",
       "                                          NaN         False    justvm-vmware-standard virtual justvm   test NaN       NaN     NaN       NaN       released_version://5.3    NaN   2.439168\n",
       "                                                                                                                                                  released_version://5.2    NaN   2.157047\n",
       "                       native  1          NaN         False    justvm-vmware-standard virtual justvm   test NaN       NaN     NaN       NaN       released_version://5.3    NaN   1.927824\n",
       "                                          False       False    justvm-vmware-standard virtual justvm   test NaN       NaN     NaN       NaN       released_version://master NaN   1.216645\n",
       "                                          NaN         False    justvm-vmware-standard virtual justvm   test NaN       NaN     NaN       NaN       released_version://5.2    NaN   1.116727\n",
       "                                          True        False    justvm-vmware-standard NaN     NaN      NaN  True      5.2     NaN       NaN       NaN                       NaN   0.893382"
      ]
     },
     "execution_count": 57,
     "metadata": {},
     "output_type": "execute_result"
    }
   ],
   "source": [
    "percents = grouped/grouped[0].sum()*100\n",
    "percents.sort_values(by=0, ascending=False).head(10)"
   ]
  },
  {
   "cell_type": "code",
   "execution_count": 32,
   "metadata": {},
   "outputs": [
    {
     "data": {
      "text/html": [
       "<div>\n",
       "<style scoped>\n",
       "    .dataframe tbody tr th:only-of-type {\n",
       "        vertical-align: middle;\n",
       "    }\n",
       "\n",
       "    .dataframe tbody tr th {\n",
       "        vertical-align: top;\n",
       "    }\n",
       "\n",
       "    .dataframe thead th {\n",
       "        text-align: right;\n",
       "    }\n",
       "</style>\n",
       "<table border=\"1\" class=\"dataframe\">\n",
       "  <thead>\n",
       "    <tr style=\"text-align: right;\">\n",
       "      <th></th>\n",
       "      <th></th>\n",
       "      <th></th>\n",
       "      <th></th>\n",
       "      <th>0</th>\n",
       "    </tr>\n",
       "    <tr>\n",
       "      <th>location</th>\n",
       "      <th>node_count</th>\n",
       "      <th>has_ipv6</th>\n",
       "      <th>model</th>\n",
       "      <th></th>\n",
       "    </tr>\n",
       "  </thead>\n",
       "  <tbody>\n",
       "    <tr>\n",
       "      <th rowspan=\"4\" valign=\"top\">colo</th>\n",
       "      <th>1</th>\n",
       "      <th>False</th>\n",
       "      <th>justvm-vmware-standard</th>\n",
       "      <td>66.956624</td>\n",
       "    </tr>\n",
       "    <tr>\n",
       "      <th>3</th>\n",
       "      <th>False</th>\n",
       "      <th>justvm-vmware-standard</th>\n",
       "      <td>21.470554</td>\n",
       "    </tr>\n",
       "    <tr>\n",
       "      <th rowspan=\"2\" valign=\"top\">4</th>\n",
       "      <th rowspan=\"2\" valign=\"top\">False</th>\n",
       "      <th>justvm-vmware-standard</th>\n",
       "      <td>2.456800</td>\n",
       "    </tr>\n",
       "    <tr>\n",
       "      <th>prod_brik</th>\n",
       "      <td>1.869049</td>\n",
       "    </tr>\n",
       "    <tr>\n",
       "      <th rowspan=\"4\" valign=\"top\">aws-us-west-2</th>\n",
       "      <th>3</th>\n",
       "      <th>False</th>\n",
       "      <th>aws-m4.xlarge</th>\n",
       "      <td>1.287175</td>\n",
       "    </tr>\n",
       "    <tr>\n",
       "      <th rowspan=\"2\" valign=\"top\">1</th>\n",
       "      <th rowspan=\"2\" valign=\"top\">False</th>\n",
       "      <th>aws-m4.xlarge</th>\n",
       "      <td>1.069707</td>\n",
       "    </tr>\n",
       "    <tr>\n",
       "      <th>aws-m5.4xlarge</th>\n",
       "      <td>0.863994</td>\n",
       "    </tr>\n",
       "    <tr>\n",
       "      <th>4</th>\n",
       "      <th>False</th>\n",
       "      <th>aws-m5.4xlarge</th>\n",
       "      <td>0.464323</td>\n",
       "    </tr>\n",
       "    <tr>\n",
       "      <th rowspan=\"2\" valign=\"top\">colo</th>\n",
       "      <th>1</th>\n",
       "      <th>False</th>\n",
       "      <th>justvm-vmware-edge</th>\n",
       "      <td>0.440813</td>\n",
       "    </tr>\n",
       "    <tr>\n",
       "      <th>3</th>\n",
       "      <th>True</th>\n",
       "      <th>justvm-vmware-standard</th>\n",
       "      <td>0.335018</td>\n",
       "    </tr>\n",
       "  </tbody>\n",
       "</table>\n",
       "</div>"
      ],
      "text/plain": [
       "                                                                  0\n",
       "location      node_count has_ipv6 model                            \n",
       "colo          1          False    justvm-vmware-standard  66.956624\n",
       "              3          False    justvm-vmware-standard  21.470554\n",
       "              4          False    justvm-vmware-standard   2.456800\n",
       "                                  prod_brik                1.869049\n",
       "aws-us-west-2 3          False    aws-m4.xlarge            1.287175\n",
       "              1          False    aws-m4.xlarge            1.069707\n",
       "                                  aws-m5.4xlarge           0.863994\n",
       "              4          False    aws-m5.4xlarge           0.464323\n",
       "colo          1          False    justvm-vmware-edge       0.440813\n",
       "              3          True     justvm-vmware-standard   0.335018"
      ]
     },
     "execution_count": 32,
     "metadata": {},
     "output_type": "execute_result"
    }
   ],
   "source": [
    "grouped2 = cdm_clust.groupby(['location', 'node_count', 'has_ipv6', 'model'], dropna=False).size().to_frame()\n",
    "percents = grouped2/grouped2[0].sum()*100\n",
    "percents.sort_values(by=0, ascending=False).head(10)"
   ]
  },
  {
   "cell_type": "code",
   "execution_count": 33,
   "metadata": {},
   "outputs": [
    {
     "data": {
      "text/html": [
       "<div>\n",
       "<style scoped>\n",
       "    .dataframe tbody tr th:only-of-type {\n",
       "        vertical-align: middle;\n",
       "    }\n",
       "\n",
       "    .dataframe tbody tr th {\n",
       "        vertical-align: top;\n",
       "    }\n",
       "\n",
       "    .dataframe thead th {\n",
       "        text-align: right;\n",
       "    }\n",
       "</style>\n",
       "<table border=\"1\" class=\"dataframe\">\n",
       "  <thead>\n",
       "    <tr style=\"text-align: right;\">\n",
       "      <th></th>\n",
       "      <th>0</th>\n",
       "    </tr>\n",
       "    <tr>\n",
       "      <th>node_count</th>\n",
       "      <th></th>\n",
       "    </tr>\n",
       "  </thead>\n",
       "  <tbody>\n",
       "    <tr>\n",
       "      <th>1</th>\n",
       "      <td>70.048196</td>\n",
       "    </tr>\n",
       "    <tr>\n",
       "      <th>3</th>\n",
       "      <td>24.232985</td>\n",
       "    </tr>\n",
       "    <tr>\n",
       "      <th>4</th>\n",
       "      <td>5.242741</td>\n",
       "    </tr>\n",
       "    <tr>\n",
       "      <th>6</th>\n",
       "      <td>0.211590</td>\n",
       "    </tr>\n",
       "    <tr>\n",
       "      <th>5</th>\n",
       "      <td>0.164570</td>\n",
       "    </tr>\n",
       "    <tr>\n",
       "      <th>8</th>\n",
       "      <td>0.070530</td>\n",
       "    </tr>\n",
       "    <tr>\n",
       "      <th>12</th>\n",
       "      <td>0.017633</td>\n",
       "    </tr>\n",
       "    <tr>\n",
       "      <th>32</th>\n",
       "      <td>0.005878</td>\n",
       "    </tr>\n",
       "    <tr>\n",
       "      <th></th>\n",
       "      <td>0.005878</td>\n",
       "    </tr>\n",
       "  </tbody>\n",
       "</table>\n",
       "</div>"
      ],
      "text/plain": [
       "                    0\n",
       "node_count           \n",
       "1           70.048196\n",
       "3           24.232985\n",
       "4            5.242741\n",
       "6            0.211590\n",
       "5            0.164570\n",
       "8            0.070530\n",
       "12           0.017633\n",
       "32           0.005878\n",
       "             0.005878"
      ]
     },
     "execution_count": 33,
     "metadata": {},
     "output_type": "execute_result"
    }
   ],
   "source": [
    "grouped3 = cdm_clust.groupby(['node_count'], dropna=False).size().to_frame()\n",
    "percents = grouped3/grouped3[0].sum()*100\n",
    "percents.sort_values(by=0, ascending=False)"
   ]
  },
  {
   "cell_type": "code",
   "execution_count": 34,
   "metadata": {},
   "outputs": [
    {
     "data": {
      "text/html": [
       "<div>\n",
       "<style scoped>\n",
       "    .dataframe tbody tr th:only-of-type {\n",
       "        vertical-align: middle;\n",
       "    }\n",
       "\n",
       "    .dataframe tbody tr th {\n",
       "        vertical-align: top;\n",
       "    }\n",
       "\n",
       "    .dataframe thead th {\n",
       "        text-align: right;\n",
       "    }\n",
       "</style>\n",
       "<table border=\"1\" class=\"dataframe\">\n",
       "  <thead>\n",
       "    <tr style=\"text-align: right;\">\n",
       "      <th></th>\n",
       "      <th></th>\n",
       "      <th>0</th>\n",
       "    </tr>\n",
       "    <tr>\n",
       "      <th>node_count</th>\n",
       "      <th>model</th>\n",
       "      <th></th>\n",
       "    </tr>\n",
       "  </thead>\n",
       "  <tbody>\n",
       "    <tr>\n",
       "      <th>1</th>\n",
       "      <th>justvm-vmware-standard</th>\n",
       "      <td>67.238745</td>\n",
       "    </tr>\n",
       "    <tr>\n",
       "      <th>3</th>\n",
       "      <th>justvm-vmware-standard</th>\n",
       "      <td>21.811449</td>\n",
       "    </tr>\n",
       "    <tr>\n",
       "      <th rowspan=\"2\" valign=\"top\">4</th>\n",
       "      <th>justvm-vmware-standard</th>\n",
       "      <td>2.462678</td>\n",
       "    </tr>\n",
       "    <tr>\n",
       "      <th>prod_brik</th>\n",
       "      <td>1.874927</td>\n",
       "    </tr>\n",
       "    <tr>\n",
       "      <th>3</th>\n",
       "      <th>aws-m4.xlarge</th>\n",
       "      <td>1.298930</td>\n",
       "    </tr>\n",
       "    <tr>\n",
       "      <th rowspan=\"2\" valign=\"top\">1</th>\n",
       "      <th>aws-m4.xlarge</th>\n",
       "      <td>1.093217</td>\n",
       "    </tr>\n",
       "    <tr>\n",
       "      <th>aws-m5.4xlarge</th>\n",
       "      <td>0.863994</td>\n",
       "    </tr>\n",
       "    <tr>\n",
       "      <th>4</th>\n",
       "      <th>aws-m5.4xlarge</th>\n",
       "      <td>0.464323</td>\n",
       "    </tr>\n",
       "    <tr>\n",
       "      <th>1</th>\n",
       "      <th>justvm-vmware-edge</th>\n",
       "      <td>0.440813</td>\n",
       "    </tr>\n",
       "    <tr>\n",
       "      <th>3</th>\n",
       "      <th>justvm-vmware-rvc-medium</th>\n",
       "      <td>0.311508</td>\n",
       "    </tr>\n",
       "  </tbody>\n",
       "</table>\n",
       "</div>"
      ],
      "text/plain": [
       "                                             0\n",
       "node_count model                              \n",
       "1          justvm-vmware-standard    67.238745\n",
       "3          justvm-vmware-standard    21.811449\n",
       "4          justvm-vmware-standard     2.462678\n",
       "           prod_brik                  1.874927\n",
       "3          aws-m4.xlarge              1.298930\n",
       "1          aws-m4.xlarge              1.093217\n",
       "           aws-m5.4xlarge             0.863994\n",
       "4          aws-m5.4xlarge             0.464323\n",
       "1          justvm-vmware-edge         0.440813\n",
       "3          justvm-vmware-rvc-medium   0.311508"
      ]
     },
     "execution_count": 34,
     "metadata": {},
     "output_type": "execute_result"
    }
   ],
   "source": [
    "grouped4 = cdm_clust.groupby(['node_count', 'model'], dropna=False).size().to_frame()\n",
    "percents = grouped4/grouped4[0].sum()*100\n",
    "percents.sort_values(by=0, ascending=False).head(10)"
   ]
  },
  {
   "cell_type": "code",
   "execution_count": null,
   "metadata": {},
   "outputs": [],
   "source": []
  }
 ],
 "metadata": {
  "kernelspec": {
   "display_name": "Python 3 (ipykernel)",
   "language": "python",
   "name": "python3"
  },
  "language_info": {
   "codemirror_mode": {
    "name": "ipython",
    "version": 3
   },
   "file_extension": ".py",
   "mimetype": "text/x-python",
   "name": "python",
   "nbconvert_exporter": "python",
   "pygments_lexer": "ipython3",
   "version": "3.9.12"
  }
 },
 "nbformat": 4,
 "nbformat_minor": 4
}
