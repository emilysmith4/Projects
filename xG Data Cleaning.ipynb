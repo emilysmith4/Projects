{
 "cells": [
  {
   "cell_type": "code",
   "execution_count": 1,
   "metadata": {},
   "outputs": [],
   "source": [
    "import os\n",
    "import json\n",
    "import pandas as pd\n",
    "import numpy as np"
   ]
  },
  {
   "cell_type": "markdown",
   "metadata": {},
   "source": [
    "### Parsing through the events data"
   ]
  },
  {
   "cell_type": "code",
   "execution_count": 2,
   "metadata": {},
   "outputs": [],
   "source": [
    "event_names = os.listdir(r\"events\")"
   ]
  },
  {
   "cell_type": "code",
   "execution_count": 3,
   "metadata": {},
   "outputs": [],
   "source": [
    "events = []\n",
    "for i in event_names:\n",
    "    if i.endswith('.json'):\n",
    "        try:\n",
    "            string = \"events/\"+i\n",
    "            data = json.load(open(string))\n",
    "            event =  pd.DataFrame(data)\n",
    "            match_id = i[:-5]\n",
    "            event['match_id'] = [match_id]*len(event)\n",
    "            events.append(event)\n",
    "        except ValueError as ve:\n",
    "            print(i)"
   ]
  },
  {
   "cell_type": "code",
   "execution_count": 4,
   "metadata": {},
   "outputs": [
    {
     "data": {
      "text/html": [
       "<div>\n",
       "<style scoped>\n",
       "    .dataframe tbody tr th:only-of-type {\n",
       "        vertical-align: middle;\n",
       "    }\n",
       "\n",
       "    .dataframe tbody tr th {\n",
       "        vertical-align: top;\n",
       "    }\n",
       "\n",
       "    .dataframe thead th {\n",
       "        text-align: right;\n",
       "    }\n",
       "</style>\n",
       "<table border=\"1\" class=\"dataframe\">\n",
       "  <thead>\n",
       "    <tr style=\"text-align: right;\">\n",
       "      <th></th>\n",
       "      <th>id</th>\n",
       "      <th>index</th>\n",
       "      <th>period</th>\n",
       "      <th>timestamp</th>\n",
       "      <th>minute</th>\n",
       "      <th>second</th>\n",
       "      <th>type</th>\n",
       "      <th>possession</th>\n",
       "      <th>possession_team</th>\n",
       "      <th>play_pattern</th>\n",
       "      <th>...</th>\n",
       "      <th>miscontrol</th>\n",
       "      <th>foul_won</th>\n",
       "      <th>off_camera</th>\n",
       "      <th>substitution</th>\n",
       "      <th>match_id</th>\n",
       "      <th>injury_stoppage</th>\n",
       "      <th>bad_behaviour</th>\n",
       "      <th>half_start</th>\n",
       "      <th>half_end</th>\n",
       "      <th>player_off</th>\n",
       "    </tr>\n",
       "  </thead>\n",
       "  <tbody>\n",
       "    <tr>\n",
       "      <th>0</th>\n",
       "      <td>91fdaa62-e36b-4aca-8c56-7a6d32289483</td>\n",
       "      <td>1</td>\n",
       "      <td>1</td>\n",
       "      <td>00:00:00.000</td>\n",
       "      <td>0</td>\n",
       "      <td>0</td>\n",
       "      <td>{'id': 35, 'name': 'Starting XI'}</td>\n",
       "      <td>1</td>\n",
       "      <td>{'id': 974, 'name': 'Reading WFC'}</td>\n",
       "      <td>{'id': 1, 'name': 'Regular Play'}</td>\n",
       "      <td>...</td>\n",
       "      <td>NaN</td>\n",
       "      <td>NaN</td>\n",
       "      <td>NaN</td>\n",
       "      <td>NaN</td>\n",
       "      <td>2275050</td>\n",
       "      <td>NaN</td>\n",
       "      <td>NaN</td>\n",
       "      <td>NaN</td>\n",
       "      <td>NaN</td>\n",
       "      <td>NaN</td>\n",
       "    </tr>\n",
       "    <tr>\n",
       "      <th>1</th>\n",
       "      <td>aae12223-7969-4f4e-ac4e-83b075af1352</td>\n",
       "      <td>2</td>\n",
       "      <td>1</td>\n",
       "      <td>00:00:00.000</td>\n",
       "      <td>0</td>\n",
       "      <td>0</td>\n",
       "      <td>{'id': 35, 'name': 'Starting XI'}</td>\n",
       "      <td>1</td>\n",
       "      <td>{'id': 974, 'name': 'Reading WFC'}</td>\n",
       "      <td>{'id': 1, 'name': 'Regular Play'}</td>\n",
       "      <td>...</td>\n",
       "      <td>NaN</td>\n",
       "      <td>NaN</td>\n",
       "      <td>NaN</td>\n",
       "      <td>NaN</td>\n",
       "      <td>2275050</td>\n",
       "      <td>NaN</td>\n",
       "      <td>NaN</td>\n",
       "      <td>NaN</td>\n",
       "      <td>NaN</td>\n",
       "      <td>NaN</td>\n",
       "    </tr>\n",
       "    <tr>\n",
       "      <th>2</th>\n",
       "      <td>ba7b6ef4-edab-43e9-8ed2-ccc073667b8f</td>\n",
       "      <td>3</td>\n",
       "      <td>1</td>\n",
       "      <td>00:00:00.000</td>\n",
       "      <td>0</td>\n",
       "      <td>0</td>\n",
       "      <td>{'id': 18, 'name': 'Half Start'}</td>\n",
       "      <td>1</td>\n",
       "      <td>{'id': 974, 'name': 'Reading WFC'}</td>\n",
       "      <td>{'id': 1, 'name': 'Regular Play'}</td>\n",
       "      <td>...</td>\n",
       "      <td>NaN</td>\n",
       "      <td>NaN</td>\n",
       "      <td>NaN</td>\n",
       "      <td>NaN</td>\n",
       "      <td>2275050</td>\n",
       "      <td>NaN</td>\n",
       "      <td>NaN</td>\n",
       "      <td>NaN</td>\n",
       "      <td>NaN</td>\n",
       "      <td>NaN</td>\n",
       "    </tr>\n",
       "    <tr>\n",
       "      <th>3</th>\n",
       "      <td>f8f30929-e011-4ea9-bbc9-c22873023d5f</td>\n",
       "      <td>4</td>\n",
       "      <td>1</td>\n",
       "      <td>00:00:00.000</td>\n",
       "      <td>0</td>\n",
       "      <td>0</td>\n",
       "      <td>{'id': 18, 'name': 'Half Start'}</td>\n",
       "      <td>1</td>\n",
       "      <td>{'id': 974, 'name': 'Reading WFC'}</td>\n",
       "      <td>{'id': 1, 'name': 'Regular Play'}</td>\n",
       "      <td>...</td>\n",
       "      <td>NaN</td>\n",
       "      <td>NaN</td>\n",
       "      <td>NaN</td>\n",
       "      <td>NaN</td>\n",
       "      <td>2275050</td>\n",
       "      <td>NaN</td>\n",
       "      <td>NaN</td>\n",
       "      <td>NaN</td>\n",
       "      <td>NaN</td>\n",
       "      <td>NaN</td>\n",
       "    </tr>\n",
       "    <tr>\n",
       "      <th>4</th>\n",
       "      <td>c0927b64-b182-4e44-83f0-b77222d600f8</td>\n",
       "      <td>5</td>\n",
       "      <td>1</td>\n",
       "      <td>00:00:00.443</td>\n",
       "      <td>0</td>\n",
       "      <td>0</td>\n",
       "      <td>{'id': 30, 'name': 'Pass'}</td>\n",
       "      <td>2</td>\n",
       "      <td>{'id': 969, 'name': 'Birmingham City WFC'}</td>\n",
       "      <td>{'id': 9, 'name': 'From Kick Off'}</td>\n",
       "      <td>...</td>\n",
       "      <td>NaN</td>\n",
       "      <td>NaN</td>\n",
       "      <td>NaN</td>\n",
       "      <td>NaN</td>\n",
       "      <td>2275050</td>\n",
       "      <td>NaN</td>\n",
       "      <td>NaN</td>\n",
       "      <td>NaN</td>\n",
       "      <td>NaN</td>\n",
       "      <td>NaN</td>\n",
       "    </tr>\n",
       "  </tbody>\n",
       "</table>\n",
       "<p>5 rows × 43 columns</p>\n",
       "</div>"
      ],
      "text/plain": [
       "                                     id  index  period     timestamp  minute  \\\n",
       "0  91fdaa62-e36b-4aca-8c56-7a6d32289483      1       1  00:00:00.000       0   \n",
       "1  aae12223-7969-4f4e-ac4e-83b075af1352      2       1  00:00:00.000       0   \n",
       "2  ba7b6ef4-edab-43e9-8ed2-ccc073667b8f      3       1  00:00:00.000       0   \n",
       "3  f8f30929-e011-4ea9-bbc9-c22873023d5f      4       1  00:00:00.000       0   \n",
       "4  c0927b64-b182-4e44-83f0-b77222d600f8      5       1  00:00:00.443       0   \n",
       "\n",
       "   second                               type  possession  \\\n",
       "0       0  {'id': 35, 'name': 'Starting XI'}           1   \n",
       "1       0  {'id': 35, 'name': 'Starting XI'}           1   \n",
       "2       0   {'id': 18, 'name': 'Half Start'}           1   \n",
       "3       0   {'id': 18, 'name': 'Half Start'}           1   \n",
       "4       0         {'id': 30, 'name': 'Pass'}           2   \n",
       "\n",
       "                              possession_team  \\\n",
       "0          {'id': 974, 'name': 'Reading WFC'}   \n",
       "1          {'id': 974, 'name': 'Reading WFC'}   \n",
       "2          {'id': 974, 'name': 'Reading WFC'}   \n",
       "3          {'id': 974, 'name': 'Reading WFC'}   \n",
       "4  {'id': 969, 'name': 'Birmingham City WFC'}   \n",
       "\n",
       "                         play_pattern  ... miscontrol  foul_won off_camera  \\\n",
       "0   {'id': 1, 'name': 'Regular Play'}  ...        NaN       NaN        NaN   \n",
       "1   {'id': 1, 'name': 'Regular Play'}  ...        NaN       NaN        NaN   \n",
       "2   {'id': 1, 'name': 'Regular Play'}  ...        NaN       NaN        NaN   \n",
       "3   {'id': 1, 'name': 'Regular Play'}  ...        NaN       NaN        NaN   \n",
       "4  {'id': 9, 'name': 'From Kick Off'}  ...        NaN       NaN        NaN   \n",
       "\n",
       "  substitution match_id injury_stoppage bad_behaviour half_start half_end  \\\n",
       "0          NaN  2275050             NaN           NaN        NaN      NaN   \n",
       "1          NaN  2275050             NaN           NaN        NaN      NaN   \n",
       "2          NaN  2275050             NaN           NaN        NaN      NaN   \n",
       "3          NaN  2275050             NaN           NaN        NaN      NaN   \n",
       "4          NaN  2275050             NaN           NaN        NaN      NaN   \n",
       "\n",
       "  player_off  \n",
       "0        NaN  \n",
       "1        NaN  \n",
       "2        NaN  \n",
       "3        NaN  \n",
       "4        NaN  \n",
       "\n",
       "[5 rows x 43 columns]"
      ]
     },
     "execution_count": 4,
     "metadata": {},
     "output_type": "execute_result"
    }
   ],
   "source": [
    "events_df = pd.concat(events)\n",
    "events_df.head()"
   ]
  },
  {
   "cell_type": "code",
   "execution_count": 5,
   "metadata": {},
   "outputs": [],
   "source": [
    "shots = events_df.dropna(subset=['shot'])"
   ]
  },
  {
   "cell_type": "code",
   "execution_count": 8,
   "metadata": {},
   "outputs": [],
   "source": [
    "shots = shots.reset_index()"
   ]
  },
  {
   "cell_type": "code",
   "execution_count": 10,
   "metadata": {
    "scrolled": true
   },
   "outputs": [
    {
     "data": {
      "text/html": [
       "<div>\n",
       "<style scoped>\n",
       "    .dataframe tbody tr th:only-of-type {\n",
       "        vertical-align: middle;\n",
       "    }\n",
       "\n",
       "    .dataframe tbody tr th {\n",
       "        vertical-align: top;\n",
       "    }\n",
       "\n",
       "    .dataframe thead th {\n",
       "        text-align: right;\n",
       "    }\n",
       "</style>\n",
       "<table border=\"1\" class=\"dataframe\">\n",
       "  <thead>\n",
       "    <tr style=\"text-align: right;\">\n",
       "      <th></th>\n",
       "      <th>level_0</th>\n",
       "      <th>id</th>\n",
       "      <th>index</th>\n",
       "      <th>period</th>\n",
       "      <th>timestamp</th>\n",
       "      <th>minute</th>\n",
       "      <th>second</th>\n",
       "      <th>type</th>\n",
       "      <th>possession</th>\n",
       "      <th>possession_team</th>\n",
       "      <th>...</th>\n",
       "      <th>miscontrol</th>\n",
       "      <th>foul_won</th>\n",
       "      <th>off_camera</th>\n",
       "      <th>substitution</th>\n",
       "      <th>match_id</th>\n",
       "      <th>injury_stoppage</th>\n",
       "      <th>bad_behaviour</th>\n",
       "      <th>half_start</th>\n",
       "      <th>half_end</th>\n",
       "      <th>player_off</th>\n",
       "    </tr>\n",
       "  </thead>\n",
       "  <tbody>\n",
       "    <tr>\n",
       "      <th>0</th>\n",
       "      <td>187</td>\n",
       "      <td>e24077b9-2ca6-4680-9e8e-761bc9ba4845</td>\n",
       "      <td>188</td>\n",
       "      <td>1</td>\n",
       "      <td>00:05:23.402</td>\n",
       "      <td>5</td>\n",
       "      <td>23</td>\n",
       "      <td>{'id': 16, 'name': 'Shot'}</td>\n",
       "      <td>17</td>\n",
       "      <td>{'id': 974, 'name': 'Reading WFC'}</td>\n",
       "      <td>...</td>\n",
       "      <td>NaN</td>\n",
       "      <td>NaN</td>\n",
       "      <td>NaN</td>\n",
       "      <td>NaN</td>\n",
       "      <td>2275050</td>\n",
       "      <td>NaN</td>\n",
       "      <td>NaN</td>\n",
       "      <td>NaN</td>\n",
       "      <td>NaN</td>\n",
       "      <td>NaN</td>\n",
       "    </tr>\n",
       "    <tr>\n",
       "      <th>1</th>\n",
       "      <td>332</td>\n",
       "      <td>0d58fd05-2175-48d8-a9b6-2085920f1812</td>\n",
       "      <td>333</td>\n",
       "      <td>1</td>\n",
       "      <td>00:08:43.612</td>\n",
       "      <td>8</td>\n",
       "      <td>43</td>\n",
       "      <td>{'id': 16, 'name': 'Shot'}</td>\n",
       "      <td>25</td>\n",
       "      <td>{'id': 974, 'name': 'Reading WFC'}</td>\n",
       "      <td>...</td>\n",
       "      <td>NaN</td>\n",
       "      <td>NaN</td>\n",
       "      <td>NaN</td>\n",
       "      <td>NaN</td>\n",
       "      <td>2275050</td>\n",
       "      <td>NaN</td>\n",
       "      <td>NaN</td>\n",
       "      <td>NaN</td>\n",
       "      <td>NaN</td>\n",
       "      <td>NaN</td>\n",
       "    </tr>\n",
       "    <tr>\n",
       "      <th>2</th>\n",
       "      <td>478</td>\n",
       "      <td>7b728a6c-d483-4e5b-8061-a0b849722cea</td>\n",
       "      <td>479</td>\n",
       "      <td>1</td>\n",
       "      <td>00:11:43.335</td>\n",
       "      <td>11</td>\n",
       "      <td>43</td>\n",
       "      <td>{'id': 16, 'name': 'Shot'}</td>\n",
       "      <td>32</td>\n",
       "      <td>{'id': 969, 'name': 'Birmingham City WFC'}</td>\n",
       "      <td>...</td>\n",
       "      <td>NaN</td>\n",
       "      <td>NaN</td>\n",
       "      <td>NaN</td>\n",
       "      <td>NaN</td>\n",
       "      <td>2275050</td>\n",
       "      <td>NaN</td>\n",
       "      <td>NaN</td>\n",
       "      <td>NaN</td>\n",
       "      <td>NaN</td>\n",
       "      <td>NaN</td>\n",
       "    </tr>\n",
       "  </tbody>\n",
       "</table>\n",
       "<p>3 rows × 44 columns</p>\n",
       "</div>"
      ],
      "text/plain": [
       "   level_0                                    id  index  period     timestamp  \\\n",
       "0      187  e24077b9-2ca6-4680-9e8e-761bc9ba4845    188       1  00:05:23.402   \n",
       "1      332  0d58fd05-2175-48d8-a9b6-2085920f1812    333       1  00:08:43.612   \n",
       "2      478  7b728a6c-d483-4e5b-8061-a0b849722cea    479       1  00:11:43.335   \n",
       "\n",
       "   minute  second                        type  possession  \\\n",
       "0       5      23  {'id': 16, 'name': 'Shot'}          17   \n",
       "1       8      43  {'id': 16, 'name': 'Shot'}          25   \n",
       "2      11      43  {'id': 16, 'name': 'Shot'}          32   \n",
       "\n",
       "                              possession_team  ... miscontrol foul_won  \\\n",
       "0          {'id': 974, 'name': 'Reading WFC'}  ...        NaN      NaN   \n",
       "1          {'id': 974, 'name': 'Reading WFC'}  ...        NaN      NaN   \n",
       "2  {'id': 969, 'name': 'Birmingham City WFC'}  ...        NaN      NaN   \n",
       "\n",
       "   off_camera substitution match_id injury_stoppage bad_behaviour half_start  \\\n",
       "0         NaN          NaN  2275050             NaN           NaN        NaN   \n",
       "1         NaN          NaN  2275050             NaN           NaN        NaN   \n",
       "2         NaN          NaN  2275050             NaN           NaN        NaN   \n",
       "\n",
       "  half_end player_off  \n",
       "0      NaN        NaN  \n",
       "1      NaN        NaN  \n",
       "2      NaN        NaN  \n",
       "\n",
       "[3 rows x 44 columns]"
      ]
     },
     "execution_count": 10,
     "metadata": {},
     "output_type": "execute_result"
    }
   ],
   "source": [
    "shots.head(3)"
   ]
  },
  {
   "cell_type": "markdown",
   "metadata": {},
   "source": [
    "### Shot outcome, technique, body_part, and type are recorded for all shots so we create a seperate column for each."
   ]
  },
  {
   "cell_type": "code",
   "execution_count": 12,
   "metadata": {
    "scrolled": true
   },
   "outputs": [],
   "source": [
    "shots['shot_outcome'] = [row['outcome']['name'] for row in shots['shot']]"
   ]
  },
  {
   "cell_type": "code",
   "execution_count": 13,
   "metadata": {},
   "outputs": [],
   "source": [
    "shots['technique'] = [row['technique']['name'] for row in shots['shot']]"
   ]
  },
  {
   "cell_type": "code",
   "execution_count": 14,
   "metadata": {},
   "outputs": [],
   "source": [
    "shots['body_part'] = [row['body_part']['name'] for row in shots['shot']]"
   ]
  },
  {
   "cell_type": "code",
   "execution_count": 15,
   "metadata": {},
   "outputs": [],
   "source": [
    "shots['type'] = [row['type']['name'] for row in shots['shot']]"
   ]
  },
  {
   "cell_type": "code",
   "execution_count": 17,
   "metadata": {},
   "outputs": [
    {
     "data": {
      "text/plain": [
       "Index(['level_0', 'id', 'index', 'period', 'timestamp', 'minute', 'second',\n",
       "       'type', 'possession', 'possession_team', 'play_pattern', 'team',\n",
       "       'duration', 'tactics', 'related_events', 'player', 'position',\n",
       "       'location', 'pass', 'under_pressure', 'carry', 'out', 'counterpress',\n",
       "       'ball_receipt', 'clearance', 'duel', 'foul_committed', 'dribble',\n",
       "       'goalkeeper', 'shot', 'interception', '50_50', 'block', 'ball_recovery',\n",
       "       'miscontrol', 'foul_won', 'off_camera', 'substitution', 'match_id',\n",
       "       'injury_stoppage', 'bad_behaviour', 'half_start', 'half_end',\n",
       "       'player_off', 'shot_outcome', 'technique', 'body_part'],\n",
       "      dtype='object')"
      ]
     },
     "execution_count": 17,
     "metadata": {},
     "output_type": "execute_result"
    }
   ],
   "source": [
    "shots.columns"
   ]
  },
  {
   "cell_type": "code",
   "execution_count": 18,
   "metadata": {},
   "outputs": [],
   "source": [
    "shots.to_csv('shots.csv')"
   ]
  },
  {
   "cell_type": "code",
   "execution_count": 19,
   "metadata": {},
   "outputs": [
    {
     "data": {
      "text/plain": [
       "28025"
      ]
     },
     "execution_count": 19,
     "metadata": {},
     "output_type": "execute_result"
    }
   ],
   "source": [
    "len(shots)"
   ]
  },
  {
   "cell_type": "code",
   "execution_count": null,
   "metadata": {},
   "outputs": [],
   "source": []
  }
 ],
 "metadata": {
  "kernelspec": {
   "display_name": "Python 3",
   "language": "python",
   "name": "python3"
  },
  "language_info": {
   "codemirror_mode": {
    "name": "ipython",
    "version": 3
   },
   "file_extension": ".py",
   "mimetype": "text/x-python",
   "name": "python",
   "nbconvert_exporter": "python",
   "pygments_lexer": "ipython3",
   "version": "3.8.3"
  }
 },
 "nbformat": 4,
 "nbformat_minor": 4
}
