{
 "cells": [
  {
   "cell_type": "markdown",
   "metadata": {
    "id": "5LWw8_KFsnzL"
   },
   "source": [
    "### Data Processing and Manipulation / Feature Engineering"
   ]
  },
  {
   "cell_type": "markdown",
   "metadata": {
    "id": "iIH2LPWsrvnu"
   },
   "source": [
    "Import necessary libaries and modules"
   ]
  },
  {
   "cell_type": "code",
   "execution_count": null,
   "metadata": {
    "id": "h_mi-7nYsARL"
   },
   "outputs": [],
   "source": [
    "import pandas as pd\n",
    "import numpy as np\n",
    "from google.colab import drive\n",
    "import os\n",
    "import json\n",
    "import ast"
   ]
  },
  {
   "cell_type": "code",
   "execution_count": null,
   "metadata": {
    "colab": {
     "base_uri": "https://localhost:8080/"
    },
    "id": "AMJ0dznxScaE",
    "outputId": "7de541ee-8395-4959-b68f-b0449c5a7c53"
   },
   "outputs": [
    {
     "name": "stdout",
     "output_type": "stream",
     "text": [
      "Mounted at /content/drive\n"
     ]
    }
   ],
   "source": [
    "drive.mount('/content/drive')"
   ]
  },
  {
   "cell_type": "markdown",
   "metadata": {
    "id": "ZvFQrC3qoVes"
   },
   "source": [
    "Retrieving data from another source of code where we parsed through many json files (from events) and merged all events in the games into a single dataframe"
   ]
  },
  {
   "cell_type": "code",
   "execution_count": null,
   "metadata": {
    "id": "dbYaR35Jb0gg"
   },
   "outputs": [],
   "source": [
    "shots = pd.read_csv('/content/drive/My Drive/142 Final Project/shots.csv')"
   ]
  },
  {
   "cell_type": "code",
   "execution_count": null,
   "metadata": {
    "colab": {
     "base_uri": "https://localhost:8080/"
    },
    "id": "Sy7gx7ZkX80F",
    "outputId": "40dfbede-de75-4501-c724-2b85af7556b2"
   },
   "outputs": [
    {
     "data": {
      "text/plain": [
       "Index(['Unnamed: 0', 'level_0', 'id', 'index', 'period', 'timestamp', 'minute',\n",
       "       'second', 'type', 'possession', 'possession_team', 'play_pattern',\n",
       "       'team', 'duration', 'tactics', 'related_events', 'player', 'position',\n",
       "       'location', 'pass', 'under_pressure', 'carry', 'out', 'counterpress',\n",
       "       'ball_receipt', 'clearance', 'duel', 'foul_committed', 'dribble',\n",
       "       'goalkeeper', 'shot', 'interception', '50_50', 'block', 'ball_recovery',\n",
       "       'miscontrol', 'foul_won', 'off_camera', 'substitution', 'match_id',\n",
       "       'injury_stoppage', 'bad_behaviour', 'half_start', 'half_end',\n",
       "       'player_off', 'shot_outcome', 'technique', 'body_part'],\n",
       "      dtype='object')"
      ]
     },
     "execution_count": 4,
     "metadata": {},
     "output_type": "execute_result"
    }
   ],
   "source": [
    "shots.columns"
   ]
  },
  {
   "cell_type": "markdown",
   "metadata": {
    "id": "sCySgt8EoOqO"
   },
   "source": [
    "Selecting the variables that we belive impacts whether a shot is made."
   ]
  },
  {
   "cell_type": "code",
   "execution_count": null,
   "metadata": {
    "id": "zd4YquiNX82f"
   },
   "outputs": [],
   "source": [
    "reduced = shots[['period', 'minute', 'play_pattern', 'type', 'duration', 'location', 'under_pressure', 'technique', 'body_part', 'shot_outcome']]"
   ]
  },
  {
   "cell_type": "markdown",
   "metadata": {
    "id": "qO77itASovQs"
   },
   "source": [
    "We observed that factors like 'first_time' and 'open_goal' were only present in the shot description if it was true, as the Stats Bomb spec describes these variables were only recorded when True. Knowing this, we converted the following variables into binary based on whether they appeared in the shot description."
   ]
  },
  {
   "cell_type": "code",
   "execution_count": null,
   "metadata": {
    "colab": {
     "base_uri": "https://localhost:8080/"
    },
    "id": "0Vq85ABecVkS",
    "outputId": "3e35e079-4cb1-4522-962d-6365b55b20d0"
   },
   "outputs": [],
   "source": [
    "first_time = []\n",
    "for i in shots['shot']:\n",
    "    keys = ast.literal_eval(i).keys()\n",
    "    if 'first_time' in keys:\n",
    "        first_time += [1]\n",
    "    else:\n",
    "        first_time += [0]\n",
    "\n",
    "reduced['first_time'] = first_time   "
   ]
  },
  {
   "cell_type": "code",
   "execution_count": null,
   "metadata": {
    "colab": {
     "base_uri": "https://localhost:8080/"
    },
    "id": "-YHUlVtzcVtH",
    "outputId": "5f6c8933-1494-4dfe-c1d6-763765934ffa"
   },
   "outputs": [],
   "source": [
    "open_goal = []\n",
    "for i in shots['shot']:\n",
    "    keys = ast.literal_eval(i).keys()\n",
    "    if 'open_goal' in keys:\n",
    "        open_goal += [1]\n",
    "    else:\n",
    "        open_goal += [0]\n",
    "reduced['open_goal'] = open_goal"
   ]
  },
  {
   "cell_type": "code",
   "execution_count": null,
   "metadata": {
    "colab": {
     "base_uri": "https://localhost:8080/"
    },
    "id": "R_9JvEQOcVzq",
    "outputId": "303f8fcf-cf62-45f2-c833-942b1e64aa8c"
   },
   "outputs": [],
   "source": [
    "aerial = []\n",
    "for i in shots['shot']:\n",
    "    keys = ast.literal_eval(i).keys()\n",
    "    if 'aerial_won' in keys:\n",
    "        aerial += [1]\n",
    "    else:\n",
    "        aerial += [0]\n",
    "reduced['aerial_won'] = aerial"
   ]
  },
  {
   "cell_type": "code",
   "execution_count": null,
   "metadata": {
    "colab": {
     "base_uri": "https://localhost:8080/"
    },
    "id": "Ul-Jgv-603O5",
    "outputId": "7a1c4228-293b-4332-ceba-fc5310176b4b"
   },
   "outputs": [],
   "source": [
    "dribble = []\n",
    "for i in shots['shot']:\n",
    "    keys = ast.literal_eval(i).keys()\n",
    "    if 'follows_dribble' in keys:\n",
    "        dribble += [1]\n",
    "    else:\n",
    "        dribble += [0]\n",
    "reduced['follows_dribble'] = dribble"
   ]
  },
  {
   "cell_type": "code",
   "execution_count": null,
   "metadata": {
    "colab": {
     "base_uri": "https://localhost:8080/"
    },
    "id": "4gLor2C31AU2",
    "outputId": "f9149d1c-79fa-4048-ca75-db245cef59e9"
   },
   "outputs": [],
   "source": [
    "deflect = []\n",
    "for i in shots['shot']:\n",
    "    keys = ast.literal_eval(i).keys()\n",
    "    if 'deflected' in keys:\n",
    "        deflect += [1]\n",
    "    else:\n",
    "        deflect += [0]\n",
    "reduced['deflected'] = deflect"
   ]
  },
  {
   "cell_type": "code",
   "execution_count": null,
   "metadata": {
    "colab": {
     "base_uri": "https://localhost:8080/"
    },
    "id": "GAu8tKiRX85G",
    "outputId": "0150a3ff-f6ee-4051-b617-e14bbd8fff0e"
   },
   "outputs": [],
   "source": [
    "reduced['under_pressure'] = [1 if x==True else 0 for x in shots['under_pressure']]"
   ]
  },
  {
   "cell_type": "code",
   "execution_count": null,
   "metadata": {
    "colab": {
     "base_uri": "https://localhost:8080/"
    },
    "id": "rUZlEtUD1coz",
    "outputId": "2edbaa09-7411-4ca0-97e5-f973fec05613"
   },
   "outputs": [],
   "source": [
    "reduced['play_pattern'] = [ast.literal_eval(row)['name'] for row in reduced['play_pattern']]"
   ]
  },
  {
   "cell_type": "markdown",
   "metadata": {
    "id": "m5HnMMjtpQqd"
   },
   "source": [
    "Now we use 'location' to determine approximate distance from goal."
   ]
  },
  {
   "cell_type": "markdown",
   "metadata": {
    "id": "tSONppOQ2Sl4"
   },
   "source": [
    "According to the Stats Bomb documentation, the middle of each goal is documented by [0, 40] and [120, 40]. So we calculate the distance from player's location to each of these two points and take the minumum."
   ]
  },
  {
   "cell_type": "code",
   "execution_count": null,
   "metadata": {
    "id": "oh5pV59mpXZy"
   },
   "outputs": [],
   "source": [
    "def distance_to_goal(lst):\n",
    "    dist1 = np.sqrt((lst[0] - 0)**2 + (lst[1] - 40)**2)\n",
    "    dist2 = np.sqrt((lst[0] - 120)**2 + (lst[1] - 40)**2)\n",
    "    return np.min([dist1, dist2])"
   ]
  },
  {
   "cell_type": "code",
   "execution_count": null,
   "metadata": {
    "colab": {
     "base_uri": "https://localhost:8080/"
    },
    "id": "cxSJudN_pXc4",
    "outputId": "65e41aec-c30f-43e8-cd91-8dcea97faf0b"
   },
   "outputs": [],
   "source": [
    "reduced['distance_to_goal'] = [distance_to_goal(ast.literal_eval(row)) for row in reduced['location']]"
   ]
  },
  {
   "cell_type": "markdown",
   "metadata": {
    "id": "JkF6kL-r45iE"
   },
   "source": [
    "Now we create a feature called \"goal_zone\" which is 1 if the shot was taken from inside the goal zone, which is inside the 18 yard box and within the width of the 6 yard box. These shots are considered good shots."
   ]
  },
  {
   "cell_type": "code",
   "execution_count": null,
   "metadata": {
    "id": "r-W5XOnk5fY_"
   },
   "outputs": [],
   "source": [
    "def goal_zone(lst):\n",
    "    x = lst[0]\n",
    "    y = lst[1]\n",
    "    if (x<=18) and (y>=30) and (y<=50):\n",
    "        return 1\n",
    "    elif (x>=102) and (y>=30) and (y<=50):\n",
    "        return 1\n",
    "    else:\n",
    "        return 0"
   ]
  },
  {
   "cell_type": "code",
   "execution_count": null,
   "metadata": {
    "colab": {
     "base_uri": "https://localhost:8080/"
    },
    "id": "RlntrVtS6cxR",
    "outputId": "2a4edaf3-687c-4b54-a7a3-4e96a3058210"
   },
   "outputs": [],
   "source": [
    "reduced['goal_zone'] = [goal_zone(ast.literal_eval(row)) for row in reduced['location']]"
   ]
  },
  {
   "cell_type": "code",
   "execution_count": null,
   "metadata": {
    "colab": {
     "base_uri": "https://localhost:8080/",
     "height": 117
    },
    "id": "jToo0mOtpXgC",
    "outputId": "941ee039-1b21-4b04-f607-fd83c628ed08"
   },
   "outputs": [
    {
     "data": {
      "text/html": [
       "<div>\n",
       "<style scoped>\n",
       "    .dataframe tbody tr th:only-of-type {\n",
       "        vertical-align: middle;\n",
       "    }\n",
       "\n",
       "    .dataframe tbody tr th {\n",
       "        vertical-align: top;\n",
       "    }\n",
       "\n",
       "    .dataframe thead th {\n",
       "        text-align: right;\n",
       "    }\n",
       "</style>\n",
       "<table border=\"1\" class=\"dataframe\">\n",
       "  <thead>\n",
       "    <tr style=\"text-align: right;\">\n",
       "      <th></th>\n",
       "      <th>period</th>\n",
       "      <th>minute</th>\n",
       "      <th>play_pattern</th>\n",
       "      <th>type</th>\n",
       "      <th>duration</th>\n",
       "      <th>location</th>\n",
       "      <th>under_pressure</th>\n",
       "      <th>technique</th>\n",
       "      <th>body_part</th>\n",
       "      <th>shot_outcome</th>\n",
       "      <th>first_time</th>\n",
       "      <th>open_goal</th>\n",
       "      <th>aerial_won</th>\n",
       "      <th>follows_dribble</th>\n",
       "      <th>deflected</th>\n",
       "      <th>distance_to_goal</th>\n",
       "      <th>goal_zone</th>\n",
       "    </tr>\n",
       "  </thead>\n",
       "  <tbody>\n",
       "    <tr>\n",
       "      <th>0</th>\n",
       "      <td>1</td>\n",
       "      <td>5</td>\n",
       "      <td>Regular Play</td>\n",
       "      <td>Open Play</td>\n",
       "      <td>1.422156</td>\n",
       "      <td>[85.0, 31.2]</td>\n",
       "      <td>0</td>\n",
       "      <td>Normal</td>\n",
       "      <td>Right Foot</td>\n",
       "      <td>Off T</td>\n",
       "      <td>0</td>\n",
       "      <td>0</td>\n",
       "      <td>0</td>\n",
       "      <td>0</td>\n",
       "      <td>0</td>\n",
       "      <td>36.089334</td>\n",
       "      <td>0</td>\n",
       "    </tr>\n",
       "  </tbody>\n",
       "</table>\n",
       "</div>"
      ],
      "text/plain": [
       "   period  minute  play_pattern  ... deflected  distance_to_goal goal_zone\n",
       "0       1       5  Regular Play  ...         0         36.089334         0\n",
       "\n",
       "[1 rows x 17 columns]"
      ]
     },
     "execution_count": 17,
     "metadata": {},
     "output_type": "execute_result"
    }
   ],
   "source": [
    "reduced.head(1)"
   ]
  },
  {
   "cell_type": "markdown",
   "metadata": {
    "id": "luAv9b377JIP"
   },
   "source": [
    "We decided to bucket the minute variable, into buckets of 5's. For example, if the shot occurred in minute 8, it will be represented by [5,10). This is in line with a term called \"Big 5\" which represents the idea that goals are more likely in first 5 minutes of a half, and last five minutes of a half."
   ]
  },
  {
   "cell_type": "code",
   "execution_count": null,
   "metadata": {
    "colab": {
     "base_uri": "https://localhost:8080/"
    },
    "id": "onPkfJvspXjI",
    "outputId": "943f83d8-009b-4193-f811-4c9df8bd5ebb"
   },
   "outputs": [],
   "source": [
    "bins = np.arange(0, 135, 5)\n",
    "reduced[\"minute_bucket\"] = pd.cut(reduced['minute'], bins)"
   ]
  },
  {
   "cell_type": "code",
   "execution_count": null,
   "metadata": {
    "id": "0P4EGWRlAOtT"
   },
   "outputs": [],
   "source": [
    "def big_5(cat):\n",
    "  string = str(cat)\n",
    "  if string in ['(0,5]', '(40,45]', '(45, 50]', '(85, 90]']:\n",
    "    return 1\n",
    "  else: \n",
    "    return 0"
   ]
  },
  {
   "cell_type": "code",
   "execution_count": null,
   "metadata": {
    "colab": {
     "base_uri": "https://localhost:8080/"
    },
    "id": "0R3Jqanf_2dz",
    "outputId": "8683641f-5d90-4fa4-cfb3-74e116ae06e6"
   },
   "outputs": [],
   "source": [
    "reduced['big_5'] = [big_5(row) for row in reduced['minute_bucket']]"
   ]
  },
  {
   "cell_type": "markdown",
   "metadata": {
    "id": "UYZ7WO_r8Wku"
   },
   "source": [
    "One of the last things to do is create a binary outcome variable from 'shot_outcome' to predict goal or not."
   ]
  },
  {
   "cell_type": "code",
   "execution_count": null,
   "metadata": {
    "colab": {
     "base_uri": "https://localhost:8080/"
    },
    "id": "xe5L-NPF8dCq",
    "outputId": "e6e76b15-c132-4ac4-f175-3bac0dabe2c6"
   },
   "outputs": [],
   "source": [
    "reduced['shot_outcome'] = (reduced['shot_outcome'] =='Goal')"
   ]
  },
  {
   "cell_type": "code",
   "execution_count": null,
   "metadata": {
    "colab": {
     "base_uri": "https://localhost:8080/",
     "height": 117
    },
    "id": "Z3Uq3exspXm0",
    "outputId": "6f4d1417-81dd-461c-e9dd-0e174c895db6"
   },
   "outputs": [
    {
     "data": {
      "text/html": [
       "<div>\n",
       "<style scoped>\n",
       "    .dataframe tbody tr th:only-of-type {\n",
       "        vertical-align: middle;\n",
       "    }\n",
       "\n",
       "    .dataframe tbody tr th {\n",
       "        vertical-align: top;\n",
       "    }\n",
       "\n",
       "    .dataframe thead th {\n",
       "        text-align: right;\n",
       "    }\n",
       "</style>\n",
       "<table border=\"1\" class=\"dataframe\">\n",
       "  <thead>\n",
       "    <tr style=\"text-align: right;\">\n",
       "      <th></th>\n",
       "      <th>period</th>\n",
       "      <th>minute</th>\n",
       "      <th>play_pattern</th>\n",
       "      <th>type</th>\n",
       "      <th>duration</th>\n",
       "      <th>location</th>\n",
       "      <th>under_pressure</th>\n",
       "      <th>technique</th>\n",
       "      <th>body_part</th>\n",
       "      <th>shot_outcome</th>\n",
       "      <th>first_time</th>\n",
       "      <th>open_goal</th>\n",
       "      <th>aerial_won</th>\n",
       "      <th>follows_dribble</th>\n",
       "      <th>deflected</th>\n",
       "      <th>distance_to_goal</th>\n",
       "      <th>goal_zone</th>\n",
       "      <th>minute_bucket</th>\n",
       "      <th>big_5</th>\n",
       "    </tr>\n",
       "  </thead>\n",
       "  <tbody>\n",
       "    <tr>\n",
       "      <th>0</th>\n",
       "      <td>1</td>\n",
       "      <td>5</td>\n",
       "      <td>Regular Play</td>\n",
       "      <td>Open Play</td>\n",
       "      <td>1.422156</td>\n",
       "      <td>[85.0, 31.2]</td>\n",
       "      <td>0</td>\n",
       "      <td>Normal</td>\n",
       "      <td>Right Foot</td>\n",
       "      <td>False</td>\n",
       "      <td>0</td>\n",
       "      <td>0</td>\n",
       "      <td>0</td>\n",
       "      <td>0</td>\n",
       "      <td>0</td>\n",
       "      <td>36.089334</td>\n",
       "      <td>0</td>\n",
       "      <td>(0, 5]</td>\n",
       "      <td>0</td>\n",
       "    </tr>\n",
       "  </tbody>\n",
       "</table>\n",
       "</div>"
      ],
      "text/plain": [
       "   period  minute  play_pattern  ... goal_zone  minute_bucket big_5\n",
       "0       1       5  Regular Play  ...         0         (0, 5]     0\n",
       "\n",
       "[1 rows x 19 columns]"
      ]
     },
     "execution_count": 22,
     "metadata": {},
     "output_type": "execute_result"
    }
   ],
   "source": [
    "reduced.head(1)"
   ]
  },
  {
   "cell_type": "markdown",
   "metadata": {
    "id": "70BszSg68xuh"
   },
   "source": [
    "Now we remove the variables we no longer need for the analysis."
   ]
  },
  {
   "cell_type": "code",
   "execution_count": null,
   "metadata": {
    "id": "G36tFs6joF_C"
   },
   "outputs": [],
   "source": [
    "removed = reduced.drop(columns=['period', 'minute', 'location', 'play_pattern', 'minute_bucket'])"
   ]
  },
  {
   "cell_type": "code",
   "execution_count": null,
   "metadata": {
    "colab": {
     "base_uri": "https://localhost:8080/",
     "height": 309
    },
    "id": "UI8LWbv-oGB2",
    "outputId": "7a7daa14-676e-4606-be60-6e84a2db0159"
   },
   "outputs": [
    {
     "data": {
      "text/html": [
       "<div>\n",
       "<style scoped>\n",
       "    .dataframe tbody tr th:only-of-type {\n",
       "        vertical-align: middle;\n",
       "    }\n",
       "\n",
       "    .dataframe tbody tr th {\n",
       "        vertical-align: top;\n",
       "    }\n",
       "\n",
       "    .dataframe thead th {\n",
       "        text-align: right;\n",
       "    }\n",
       "</style>\n",
       "<table border=\"1\" class=\"dataframe\">\n",
       "  <thead>\n",
       "    <tr style=\"text-align: right;\">\n",
       "      <th></th>\n",
       "      <th>type</th>\n",
       "      <th>duration</th>\n",
       "      <th>under_pressure</th>\n",
       "      <th>technique</th>\n",
       "      <th>body_part</th>\n",
       "      <th>shot_outcome</th>\n",
       "      <th>first_time</th>\n",
       "      <th>open_goal</th>\n",
       "      <th>aerial_won</th>\n",
       "      <th>follows_dribble</th>\n",
       "      <th>deflected</th>\n",
       "      <th>distance_to_goal</th>\n",
       "      <th>goal_zone</th>\n",
       "      <th>big_5</th>\n",
       "    </tr>\n",
       "  </thead>\n",
       "  <tbody>\n",
       "    <tr>\n",
       "      <th>0</th>\n",
       "      <td>Open Play</td>\n",
       "      <td>1.422156</td>\n",
       "      <td>0</td>\n",
       "      <td>Normal</td>\n",
       "      <td>Right Foot</td>\n",
       "      <td>False</td>\n",
       "      <td>0</td>\n",
       "      <td>0</td>\n",
       "      <td>0</td>\n",
       "      <td>0</td>\n",
       "      <td>0</td>\n",
       "      <td>36.089334</td>\n",
       "      <td>0</td>\n",
       "      <td>0</td>\n",
       "    </tr>\n",
       "    <tr>\n",
       "      <th>1</th>\n",
       "      <td>Open Play</td>\n",
       "      <td>1.040107</td>\n",
       "      <td>0</td>\n",
       "      <td>Volley</td>\n",
       "      <td>Right Foot</td>\n",
       "      <td>False</td>\n",
       "      <td>1</td>\n",
       "      <td>0</td>\n",
       "      <td>0</td>\n",
       "      <td>0</td>\n",
       "      <td>0</td>\n",
       "      <td>21.470911</td>\n",
       "      <td>0</td>\n",
       "      <td>0</td>\n",
       "    </tr>\n",
       "    <tr>\n",
       "      <th>2</th>\n",
       "      <td>Open Play</td>\n",
       "      <td>0.027289</td>\n",
       "      <td>0</td>\n",
       "      <td>Normal</td>\n",
       "      <td>Right Foot</td>\n",
       "      <td>False</td>\n",
       "      <td>1</td>\n",
       "      <td>0</td>\n",
       "      <td>0</td>\n",
       "      <td>0</td>\n",
       "      <td>0</td>\n",
       "      <td>7.632169</td>\n",
       "      <td>1</td>\n",
       "      <td>0</td>\n",
       "    </tr>\n",
       "    <tr>\n",
       "      <th>3</th>\n",
       "      <td>Open Play</td>\n",
       "      <td>0.123382</td>\n",
       "      <td>0</td>\n",
       "      <td>Normal</td>\n",
       "      <td>Right Foot</td>\n",
       "      <td>False</td>\n",
       "      <td>0</td>\n",
       "      <td>0</td>\n",
       "      <td>0</td>\n",
       "      <td>0</td>\n",
       "      <td>1</td>\n",
       "      <td>22.135944</td>\n",
       "      <td>0</td>\n",
       "      <td>0</td>\n",
       "    </tr>\n",
       "    <tr>\n",
       "      <th>4</th>\n",
       "      <td>Open Play</td>\n",
       "      <td>1.181463</td>\n",
       "      <td>1</td>\n",
       "      <td>Normal</td>\n",
       "      <td>Right Foot</td>\n",
       "      <td>False</td>\n",
       "      <td>0</td>\n",
       "      <td>0</td>\n",
       "      <td>0</td>\n",
       "      <td>0</td>\n",
       "      <td>0</td>\n",
       "      <td>31.472687</td>\n",
       "      <td>0</td>\n",
       "      <td>0</td>\n",
       "    </tr>\n",
       "  </tbody>\n",
       "</table>\n",
       "</div>"
      ],
      "text/plain": [
       "        type  duration  under_pressure  ... distance_to_goal goal_zone  big_5\n",
       "0  Open Play  1.422156               0  ...        36.089334         0      0\n",
       "1  Open Play  1.040107               0  ...        21.470911         0      0\n",
       "2  Open Play  0.027289               0  ...         7.632169         1      0\n",
       "3  Open Play  0.123382               0  ...        22.135944         0      0\n",
       "4  Open Play  1.181463               1  ...        31.472687         0      0\n",
       "\n",
       "[5 rows x 14 columns]"
      ]
     },
     "execution_count": 24,
     "metadata": {},
     "output_type": "execute_result"
    }
   ],
   "source": [
    "removed.head(5)"
   ]
  },
  {
   "cell_type": "markdown",
   "metadata": {
    "id": "oA3anzzm9kDm"
   },
   "source": [
    "Lastly, we turn all the categorical variables into dummy variables."
   ]
  },
  {
   "cell_type": "code",
   "execution_count": null,
   "metadata": {
    "id": "zZxvNYw5oGFq"
   },
   "outputs": [],
   "source": [
    "final = pd.get_dummies(removed)"
   ]
  },
  {
   "cell_type": "code",
   "execution_count": null,
   "metadata": {
    "colab": {
     "base_uri": "https://localhost:8080/",
     "height": 117
    },
    "id": "GD12hbeFoGJV",
    "outputId": "dd5d8627-c140-43c4-cd4b-4cfb0c7db956"
   },
   "outputs": [
    {
     "data": {
      "text/html": [
       "<div>\n",
       "<style scoped>\n",
       "    .dataframe tbody tr th:only-of-type {\n",
       "        vertical-align: middle;\n",
       "    }\n",
       "\n",
       "    .dataframe tbody tr th {\n",
       "        vertical-align: top;\n",
       "    }\n",
       "\n",
       "    .dataframe thead th {\n",
       "        text-align: right;\n",
       "    }\n",
       "</style>\n",
       "<table border=\"1\" class=\"dataframe\">\n",
       "  <thead>\n",
       "    <tr style=\"text-align: right;\">\n",
       "      <th></th>\n",
       "      <th>duration</th>\n",
       "      <th>under_pressure</th>\n",
       "      <th>shot_outcome</th>\n",
       "      <th>first_time</th>\n",
       "      <th>open_goal</th>\n",
       "      <th>aerial_won</th>\n",
       "      <th>follows_dribble</th>\n",
       "      <th>deflected</th>\n",
       "      <th>distance_to_goal</th>\n",
       "      <th>goal_zone</th>\n",
       "      <th>big_5</th>\n",
       "      <th>type_Corner</th>\n",
       "      <th>type_Free Kick</th>\n",
       "      <th>type_Kick Off</th>\n",
       "      <th>type_Open Play</th>\n",
       "      <th>type_Penalty</th>\n",
       "      <th>technique_Backheel</th>\n",
       "      <th>technique_Diving Header</th>\n",
       "      <th>technique_Half Volley</th>\n",
       "      <th>technique_Lob</th>\n",
       "      <th>technique_Normal</th>\n",
       "      <th>technique_Overhead Kick</th>\n",
       "      <th>technique_Volley</th>\n",
       "      <th>body_part_Head</th>\n",
       "      <th>body_part_Left Foot</th>\n",
       "      <th>body_part_Other</th>\n",
       "      <th>body_part_Right Foot</th>\n",
       "    </tr>\n",
       "  </thead>\n",
       "  <tbody>\n",
       "    <tr>\n",
       "      <th>0</th>\n",
       "      <td>1.422156</td>\n",
       "      <td>0</td>\n",
       "      <td>False</td>\n",
       "      <td>0</td>\n",
       "      <td>0</td>\n",
       "      <td>0</td>\n",
       "      <td>0</td>\n",
       "      <td>0</td>\n",
       "      <td>36.089334</td>\n",
       "      <td>0</td>\n",
       "      <td>0</td>\n",
       "      <td>0</td>\n",
       "      <td>0</td>\n",
       "      <td>0</td>\n",
       "      <td>1</td>\n",
       "      <td>0</td>\n",
       "      <td>0</td>\n",
       "      <td>0</td>\n",
       "      <td>0</td>\n",
       "      <td>0</td>\n",
       "      <td>1</td>\n",
       "      <td>0</td>\n",
       "      <td>0</td>\n",
       "      <td>0</td>\n",
       "      <td>0</td>\n",
       "      <td>0</td>\n",
       "      <td>1</td>\n",
       "    </tr>\n",
       "  </tbody>\n",
       "</table>\n",
       "</div>"
      ],
      "text/plain": [
       "   duration  under_pressure  ...  body_part_Other  body_part_Right Foot\n",
       "0  1.422156               0  ...                0                     1\n",
       "\n",
       "[1 rows x 27 columns]"
      ]
     },
     "execution_count": 26,
     "metadata": {},
     "output_type": "execute_result"
    }
   ],
   "source": [
    "final.head(1)"
   ]
  },
  {
   "cell_type": "code",
   "execution_count": null,
   "metadata": {
    "id": "aQHLgUoPoGME"
   },
   "outputs": [],
   "source": [
    "final.columns = final.columns.str.replace(' ', '_')"
   ]
  },
  {
   "cell_type": "markdown",
   "metadata": {
    "id": "ZQTGR-IfxihY"
   },
   "source": [
    "### Initial Model Evaluation"
   ]
  },
  {
   "cell_type": "code",
   "execution_count": null,
   "metadata": {
    "id": "pkAyJNyBe-qP"
   },
   "outputs": [],
   "source": [
    "from sklearn.model_selection import train_test_split\n",
    "\n",
    "X = final.loc[:, final.columns != 'shot_outcome']\n",
    "y = final[\"shot_outcome\"]\n",
    "\n",
    "X_train, X_test, y_train, y_test = train_test_split(X, y, test_size=0.35)"
   ]
  },
  {
   "cell_type": "code",
   "execution_count": null,
   "metadata": {
    "id": "lkjvSqpAVPti"
   },
   "outputs": [],
   "source": [
    "from sklearn.tree import DecisionTreeClassifier\n",
    "from sklearn.metrics import confusion_matrix\n",
    "from sklearn.metrics import roc_curve, auc\n",
    "import seaborn as sns\n",
    "import matplotlib.pyplot as plt\n",
    "from sklearn.linear_model import LogisticRegression\n",
    "from sklearn.ensemble import RandomForestClassifier"
   ]
  },
  {
   "cell_type": "markdown",
   "metadata": {
    "id": "1FFIBnGFxnsE"
   },
   "source": [
    "Decision Tree"
   ]
  },
  {
   "cell_type": "code",
   "execution_count": null,
   "metadata": {
    "colab": {
     "base_uri": "https://localhost:8080/",
     "height": 316
    },
    "id": "Z8QnfnPEoGPL",
    "outputId": "9fa8e124-648d-4261-c294-a29260ba42f6"
   },
   "outputs": [
    {
     "name": "stdout",
     "output_type": "stream",
     "text": [
      "Accuracy is: 0.8387\n",
      "TPR is: 0.3632\n",
      "FPR is: 0.0953\n"
     ]
    },
    {
     "data": {
      "image/png": "[encoded data removed]",
      "text/plain": [
       "<Figure size 432x288 with 2 Axes>"
      ]
     },
     "metadata": {
      "needs_background": "light"
     },
     "output_type": "display_data"
    }
   ],
   "source": [
    "dtc = DecisionTreeClassifier()\n",
    "dtc.fit(X_train, y_train)\n",
    "y_pred_dtc = dtc.predict(X_test)\n",
    "\n",
    "cm = confusion_matrix(y_test, y_pred_dtc)\n",
    "sns.heatmap(cm, annot=True, fmt='g') \n",
    "\n",
    "acc_dtc = (cm.ravel()[0]+cm.ravel()[3])/sum(cm.ravel())\n",
    "TPR_dtc = cm.ravel()[3]/(cm.ravel()[3]+cm.ravel()[2])\n",
    "FPR_dtc= cm.ravel()[1]/(cm.ravel()[1]+cm.ravel()[0])\n",
    "print('Accuracy is: %.4f' %acc_dtc)\n",
    "print('TPR is: %.4f' % TPR_dtc)\n",
    "print('FPR is: %.4f' % FPR_dtc)\n",
    "\n",
    "prob_dtc = dtc.predict_proba(X_test)[:,1]\n",
    "#print('AUC Score is: %.4f' % sklearn.metrics.roc_auc_score(y_test, prob_dtc))"
   ]
  },
  {
   "cell_type": "code",
   "execution_count": null,
   "metadata": {
    "colab": {
     "base_uri": "https://localhost:8080/",
     "height": 413
    },
    "id": "FmIF8vPkx8PP",
    "outputId": "8ff8ba11-86b2-4ee6-9a1e-3ad5d0317a6d"
   },
   "outputs": [
    {
     "data": {
      "image/png": "[encoded data removed]",
      "text/plain": [
       "<Figure size 576x432 with 1 Axes>"
      ]
     },
     "metadata": {
      "needs_background": "light"
     },
     "output_type": "display_data"
    }
   ],
   "source": [
    "fpr, tpr, _ = roc_curve(y_test, prob_dtc)\n",
    "roc_auc = auc(fpr, tpr)\n",
    "\n",
    "plt.figure(figsize=(8, 6))\n",
    "plt.title('ROC Curve', fontsize=18)\n",
    "plt.xlabel('FPR', fontsize=16)\n",
    "plt.ylabel('TPR', fontsize=16)\n",
    "plt.xlim([-0.01, 1.00])\n",
    "plt.ylim([-0.01, 1.01])\n",
    "plt.plot(fpr, tpr, lw=3, label='Decision Tree (area = {:0.2f})'.format(roc_auc))\n",
    "plt.plot([0, 1], [0, 1], color='navy', lw=3, linestyle='--', label='Naive Baseline (area = 0.50)')\n",
    "plt.legend(loc='lower right', fontsize=14)\n",
    "plt.show()"
   ]
  },
  {
   "cell_type": "markdown",
   "metadata": {
    "id": "k5qEsN6sxqBe"
   },
   "source": [
    "Logistic Regression"
   ]
  },
  {
   "cell_type": "code",
   "execution_count": null,
   "metadata": {
    "colab": {
     "base_uri": "https://localhost:8080/",
     "height": 472
    },
    "id": "hF6gKQSLe-uI",
    "outputId": "ad9372f5-2047-4ba4-8f70-746638cc3b1a"
   },
   "outputs": [
    {
     "name": "stderr",
     "output_type": "stream",
     "text": [
      "/usr/local/lib/python3.7/dist-packages/sklearn/linear_model/_logistic.py:818: ConvergenceWarning: lbfgs failed to converge (status=1):\n",
      "STOP: TOTAL NO. of ITERATIONS REACHED LIMIT.\n",
      "\n",
      "Increase the number of iterations (max_iter) or scale the data as shown in:\n",
      "    https://scikit-learn.org/stable/modules/preprocessing.html\n",
      "Please also refer to the documentation for alternative solver options:\n",
      "    https://scikit-learn.org/stable/modules/linear_model.html#logistic-regression\n",
      "  extra_warning_msg=_LOGISTIC_SOLVER_CONVERGENCE_MSG,\n"
     ]
    },
    {
     "name": "stdout",
     "output_type": "stream",
     "text": [
      "Accuracy is: 0.8915\n",
      "TPR is: 0.2259\n",
      "FPR is: 0.0161\n"
     ]
    },
    {
     "data": {
      "image/png": "[encoded data removed]",
      "text/plain": [
       "<Figure size 432x288 with 2 Axes>"
      ]
     },
     "metadata": {
      "needs_background": "light"
     },
     "output_type": "display_data"
    }
   ],
   "source": [
    "logreg = LogisticRegression()\n",
    "logreg.fit(X_train, y_train)\n",
    "y_prob_log = logreg.predict(X_test)\n",
    "y_pred_log = (y_prob_log >= .5).astype(int)\n",
    "\n",
    "\n",
    "cm_log = confusion_matrix(y_test, y_pred_log)\n",
    "sns.heatmap(cm_log, annot=True, fmt='g')\n",
    "\n",
    "acc_log = (cm_log.ravel()[0]+cm_log.ravel()[3])/sum(cm_log.ravel())\n",
    "TPR_log = cm_log.ravel()[3]/(cm_log.ravel()[3]+cm_log.ravel()[2])\n",
    "FPR_log = cm_log.ravel()[1]/(cm_log.ravel()[1]+cm_log.ravel()[0])\n",
    "print('Accuracy is: %.4f' %acc_log)\n",
    "print('TPR is: %.4f' % TPR_log)\n",
    "print('FPR is: %.4f' % FPR_log)\n",
    "#print('AUC Score is: %.4f' % sklearn.metrics.roc_auc_score(y_test, prob_logreg))\n",
    "\n",
    "prob_logreg = logreg.predict_proba(X_test)[:,1]\n",
    "#print(prob_logreg)\n"
   ]
  },
  {
   "cell_type": "code",
   "execution_count": null,
   "metadata": {
    "colab": {
     "base_uri": "https://localhost:8080/",
     "height": 413
    },
    "id": "Z5D6ZKtJx3X-",
    "outputId": "93648490-cf06-45b5-bfde-690659337079"
   },
   "outputs": [
    {
     "data": {
      "image/png": "[encoded data removed]",
      "text/plain": [
       "<Figure size 576x432 with 1 Axes>"
      ]
     },
     "metadata": {
      "needs_background": "light"
     },
     "output_type": "display_data"
    }
   ],
   "source": [
    "fpr, tpr, _ = roc_curve(y_test, prob_logreg)\n",
    "roc_auc = auc(fpr, tpr)\n",
    "\n",
    "plt.figure(figsize=(8, 6))\n",
    "plt.title('ROC Curve', fontsize=18)\n",
    "plt.xlabel('FPR', fontsize=16)\n",
    "plt.ylabel('TPR', fontsize=16)\n",
    "plt.xlim([-0.01, 1.00])\n",
    "plt.ylim([-0.01, 1.01])\n",
    "plt.plot(fpr, tpr, lw=3, label='Logistic Regression (area = {:0.2f})'.format(roc_auc))\n",
    "plt.plot([0, 1], [0, 1], color='navy', lw=3, linestyle='--', label='Naive Baseline (area = 0.50)')\n",
    "plt.legend(loc='lower right', fontsize=14)\n",
    "plt.show()"
   ]
  },
  {
   "cell_type": "markdown",
   "metadata": {
    "id": "96VAVsVcxtVU"
   },
   "source": [
    "Random Forest"
   ]
  },
  {
   "cell_type": "code",
   "execution_count": null,
   "metadata": {
    "colab": {
     "base_uri": "https://localhost:8080/",
     "height": 316
    },
    "id": "StFpU7WToGS6",
    "outputId": "6054f263-715d-4cc8-b0fb-44a5ac1be38a"
   },
   "outputs": [
    {
     "name": "stdout",
     "output_type": "stream",
     "text": [
      "Accuracy is: 0.8809\n",
      "TPR is: 0.3188\n",
      "FPR is: 0.0411\n"
     ]
    },
    {
     "data": {
      "image/png": "[encoded data removed]",
      "text/plain": [
       "<Figure size 432x288 with 2 Axes>"
      ]
     },
     "metadata": {
      "needs_background": "light"
     },
     "output_type": "display_data"
    }
   ],
   "source": [
    "rf = RandomForestClassifier()\n",
    "rf.fit(X_train, y_train)\n",
    "\n",
    "y_pred_rf = rf.predict(X_test)\n",
    "cm_rf = confusion_matrix(y_test, y_pred_rf)\n",
    "sns.heatmap(cm_rf, annot=True, fmt='g')\n",
    "\n",
    "acc_rf = (cm_rf.ravel()[0]+cm_rf.ravel()[3])/sum(cm_rf.ravel())\n",
    "TPR_rf = cm_rf.ravel()[3]/(cm_rf.ravel()[3]+cm_rf.ravel()[2])\n",
    "FPR_rf = cm_rf.ravel()[1]/(cm_rf.ravel()[1]+cm_rf.ravel()[0])\n",
    "print('Accuracy is: %.4f' %acc_rf)\n",
    "print('TPR is: %.4f' % TPR_rf)\n",
    "print('FPR is: %.4f' % FPR_rf)\n",
    "#print('AUC Score is: %.4f' % sklearn.metrics.roc_auc_score(y_test, prob_rf))\n",
    "\n",
    "prob_rf = rf.predict_proba(X_test)[:,1]\n",
    "#print(prob_rf)\n"
   ]
  },
  {
   "cell_type": "code",
   "execution_count": null,
   "metadata": {
    "colab": {
     "base_uri": "https://localhost:8080/",
     "height": 413
    },
    "id": "S1S6xwWge-xz",
    "outputId": "1a72af4e-f7e9-47f4-ebc7-42cf3ec240cd"
   },
   "outputs": [
    {
     "data": {
      "image/png": "[encoded data removed]",
      "text/plain": [
       "<Figure size 576x432 with 1 Axes>"
      ]
     },
     "metadata": {
      "needs_background": "light"
     },
     "output_type": "display_data"
    }
   ],
   "source": [
    "fpr, tpr, _ = roc_curve(y_test, prob_rf)\n",
    "roc_auc = auc(fpr, tpr)\n",
    "\n",
    "plt.figure(figsize=(8, 6))\n",
    "plt.title('ROC Curve', fontsize=18)\n",
    "plt.xlabel('FPR', fontsize=16)\n",
    "plt.ylabel('TPR', fontsize=16)\n",
    "plt.xlim([-0.01, 1.00])\n",
    "plt.ylim([-0.01, 1.01])\n",
    "plt.plot(fpr, tpr, lw=3, label='Random Forest (area = {:0.2f})'.format(roc_auc))\n",
    "plt.plot([0, 1], [0, 1], color='navy', lw=3, linestyle='--', label='Naive Baseline (area = 0.50)')\n",
    "plt.legend(loc='lower right', fontsize=14)\n",
    "plt.show()"
   ]
  },
  {
   "cell_type": "code",
   "execution_count": null,
   "metadata": {
    "colab": {
     "base_uri": "https://localhost:8080/"
    },
    "id": "1m1wGZTFe-4X",
    "outputId": "6b002ff8-b920-4761-f6e3-d602514949c3"
   },
   "outputs": [
    {
     "data": {
      "text/plain": [
       "(0.9755724219870703, 1.0, 1.0)"
      ]
     },
     "execution_count": 42,
     "metadata": {},
     "output_type": "execute_result"
    }
   ],
   "source": [
    "max(prob_logreg), max(prob_dtc), max(prob_rf)"
   ]
  },
  {
   "cell_type": "markdown",
   "metadata": {
    "id": "EnbnP-1vyBtv"
   },
   "source": [
    "#### Problem: Class Imbalance"
   ]
  },
  {
   "cell_type": "code",
   "execution_count": null,
   "metadata": {
    "colab": {
     "base_uri": "https://localhost:8080/",
     "height": 298
    },
    "id": "LU6eCvSRAejs",
    "outputId": "73a152a0-4889-4e57-a683-51b28ada2ec0"
   },
   "outputs": [
    {
     "name": "stdout",
     "output_type": "stream",
     "text": [
      "12.449598572702945 %\n"
     ]
    },
    {
     "data": {
      "image/png": "[encoded data removed]",
      "text/plain": [
       "<Figure size 432x288 with 1 Axes>"
      ]
     },
     "metadata": {
      "needs_background": "light"
     },
     "output_type": "display_data"
    }
   ],
   "source": [
    "final['shot_outcome'].value_counts().plot(kind= 'bar');\n",
    "print((final['shot_outcome']==True).sum()/len(final)*100,'%')"
   ]
  },
  {
   "cell_type": "code",
   "execution_count": null,
   "metadata": {
    "id": "gIGvymp00BDb"
   },
   "outputs": [],
   "source": []
  },
  {
   "cell_type": "markdown",
   "metadata": {
    "id": "We-5hWpX0BzE"
   },
   "source": [
    "### Three Strategies to Combat Class Imbalance and Improve xG models"
   ]
  },
  {
   "cell_type": "code",
   "execution_count": null,
   "metadata": {
    "id": "T9lan-4Vz09N"
   },
   "outputs": [],
   "source": [
    "from sklearn.model_selection import GridSearchCV\n",
    "from sklearn.metrics import accuracy_score\n",
    "from sklearn.metrics import roc_auc_score\n",
    "from sklearn.tree import plot_tree\n",
    "from sklearn.ensemble import GradientBoostingClassifier"
   ]
  },
  {
   "cell_type": "markdown",
   "metadata": {
    "id": "P6ErETmPzcSz"
   },
   "source": [
    "#### 1. Decision Trees perform well on Imbalanced Data"
   ]
  },
  {
   "cell_type": "markdown",
   "metadata": {
    "id": "JaAfF_ya2hWH"
   },
   "source": [
    "Simple Decision Tree"
   ]
  },
  {
   "cell_type": "code",
   "execution_count": null,
   "metadata": {
    "colab": {
     "base_uri": "https://localhost:8080/"
    },
    "id": "G1JaBHeOPeRZ",
    "outputId": "5cde0157-ebbb-4144-e22d-826fc86e400d"
   },
   "outputs": [
    {
     "name": "stdout",
     "output_type": "stream",
     "text": [
      "Fitting 5 folds for each of 201 candidates, totalling 1005 fits\n"
     ]
    },
    {
     "data": {
      "text/plain": [
       "GridSearchCV(cv=5,\n",
       "             estimator=DecisionTreeClassifier(min_samples_leaf=5,\n",
       "                                              random_state=1),\n",
       "             param_grid={'ccp_alpha': array([0.    , 0.0005, 0.001 , 0.0015, 0.002 , 0.0025, 0.003 , 0.0035,\n",
       "       0.004 , 0.0045, 0.005 , 0.0055, 0.006 , 0.0065, 0.007 , 0.0075,\n",
       "       0.008 , 0.0085, 0.009 , 0.0095, 0.01  , 0.0105, 0.011 , 0.0115,\n",
       "       0.012 , 0.0125, 0.013 , 0.0135, 0.014 , 0.0145, 0.015 , 0.0155,\n",
       "       0.016 , 0.0165, 0.017 , 0.0175, 0.0...\n",
       "       0.072 , 0.0725, 0.073 , 0.0735, 0.074 , 0.0745, 0.075 , 0.0755,\n",
       "       0.076 , 0.0765, 0.077 , 0.0775, 0.078 , 0.0785, 0.079 , 0.0795,\n",
       "       0.08  , 0.0805, 0.081 , 0.0815, 0.082 , 0.0825, 0.083 , 0.0835,\n",
       "       0.084 , 0.0845, 0.085 , 0.0855, 0.086 , 0.0865, 0.087 , 0.0875,\n",
       "       0.088 , 0.0885, 0.089 , 0.0895, 0.09  , 0.0905, 0.091 , 0.0915,\n",
       "       0.092 , 0.0925, 0.093 , 0.0935, 0.094 , 0.0945, 0.095 , 0.0955,\n",
       "       0.096 , 0.0965, 0.097 , 0.0975, 0.098 , 0.0985, 0.099 , 0.0995,\n",
       "       0.1   ])},\n",
       "             scoring='accuracy', verbose=1)"
      ]
     },
     "execution_count": 41,
     "metadata": {},
     "output_type": "execute_result"
    }
   ],
   "source": [
    "grid_values = {'ccp_alpha': np.linspace(0, 0.10, 201)}\n",
    "           \n",
    "dtc = DecisionTreeClassifier(min_samples_leaf = 5, random_state = 1)\n",
    "dtc_cv = GridSearchCV(dtc, param_grid = grid_values, scoring = 'accuracy', cv=5, verbose=1)\n",
    "dtc_cv.fit(X_train, y_train)"
   ]
  },
  {
   "cell_type": "code",
   "execution_count": null,
   "metadata": {
    "colab": {
     "base_uri": "https://localhost:8080/"
    },
    "id": "wyUGWld80TCh",
    "outputId": "83d72765-f5d0-4b01-df80-4af2b221c15c"
   },
   "outputs": [
    {
     "name": "stdout",
     "output_type": "stream",
     "text": [
      "Best ccp_alpha is 0.0005\n"
     ]
    }
   ],
   "source": [
    "print(\"Best ccp_alpha is\", dtc_cv.best_params_['ccp_alpha'])"
   ]
  },
  {
   "cell_type": "code",
   "execution_count": null,
   "metadata": {
    "colab": {
     "base_uri": "https://localhost:8080/"
    },
    "id": "sIbMvnMC0THW",
    "outputId": "91271884-5155-4891-e271-7e107beb5e26"
   },
   "outputs": [
    {
     "name": "stdout",
     "output_type": "stream",
     "text": [
      "Decision Tree Accuracy: 0.8879600367009889\n",
      "Decision Tree AUC: 0.8283396367779821\n"
     ]
    }
   ],
   "source": [
    "y_pred = dtc_cv.best_estimator_.predict(X_test)\n",
    "y_prob = dtc_cv.best_estimator_.predict_proba(X_test)[:,1]\n",
    "\n",
    "dtc_cv_acc = accuracy_score(y_test, y_pred)\n",
    "dtc_cv_auc = roc_auc_score(np.array(y_test), y_prob)\n",
    "print('Decision Tree Accuracy:', dtc_cv_acc)\n",
    "print('Decision Tree AUC:', dtc_cv_auc)"
   ]
  },
  {
   "cell_type": "code",
   "execution_count": null,
   "metadata": {
    "id": "3JZZWG3A29yb"
   },
   "outputs": [],
   "source": [
    "dtc_small = DecisionTreeClassifier(max_leaf_nodes=7, ccp_alpha=.0005)\n",
    "dtc_small = dtc_small.fit(X_train, y_train)"
   ]
  },
  {
   "cell_type": "code",
   "execution_count": null,
   "metadata": {
    "colab": {
     "base_uri": "https://localhost:8080/",
     "height": 509
    },
    "id": "lQf8btim0TUU",
    "outputId": "546a5886-bc94-4fb2-f64f-ed5553b826d5"
   },
   "outputs": [
    {
     "name": "stdout",
     "output_type": "stream",
     "text": [
      "Node count = 13\n"
     ]
    },
    {
     "data": {
      "image/png": "[encoded data removed]",
      "text/plain": [
       "<Figure size 1728x864 with 1 Axes>"
      ]
     },
     "metadata": {
      "needs_background": "light"
     },
     "output_type": "display_data"
    }
   ],
   "source": [
    "print('Node count =', dtc_small.tree_.node_count)\n",
    "plt.figure(figsize=(24,12))\n",
    "plot_tree(dtc_small, \n",
    "          feature_names=X_train.columns, \n",
    "          class_names=['0','1'], \n",
    "          filled=True,\n",
    "          impurity=False,\n",
    "          rounded=True,\n",
    "          fontsize=12)  \n",
    "plt.show() "
   ]
  },
  {
   "cell_type": "code",
   "execution_count": null,
   "metadata": {
    "colab": {
     "base_uri": "https://localhost:8080/",
     "height": 204
    },
    "id": "6BpmjBtCHvUL",
    "outputId": "901e206a-307e-4f75-980a-cd989ebab445"
   },
   "outputs": [
    {
     "data": {
      "text/html": [
       "<div>\n",
       "<style scoped>\n",
       "    .dataframe tbody tr th:only-of-type {\n",
       "        vertical-align: middle;\n",
       "    }\n",
       "\n",
       "    .dataframe tbody tr th {\n",
       "        vertical-align: top;\n",
       "    }\n",
       "\n",
       "    .dataframe thead th {\n",
       "        text-align: right;\n",
       "    }\n",
       "</style>\n",
       "<table border=\"1\" class=\"dataframe\">\n",
       "  <thead>\n",
       "    <tr style=\"text-align: right;\">\n",
       "      <th></th>\n",
       "      <th>Feature</th>\n",
       "      <th>Importance score</th>\n",
       "    </tr>\n",
       "  </thead>\n",
       "  <tbody>\n",
       "    <tr>\n",
       "      <th>7</th>\n",
       "      <td>distance_to_goal</td>\n",
       "      <td>37.3</td>\n",
       "    </tr>\n",
       "    <tr>\n",
       "      <th>0</th>\n",
       "      <td>duration</td>\n",
       "      <td>15.3</td>\n",
       "    </tr>\n",
       "    <tr>\n",
       "      <th>13</th>\n",
       "      <td>type_Open_Play</td>\n",
       "      <td>13.9</td>\n",
       "    </tr>\n",
       "    <tr>\n",
       "      <th>22</th>\n",
       "      <td>body_part_Head</td>\n",
       "      <td>11.7</td>\n",
       "    </tr>\n",
       "    <tr>\n",
       "      <th>3</th>\n",
       "      <td>open_goal</td>\n",
       "      <td>11.3</td>\n",
       "    </tr>\n",
       "  </tbody>\n",
       "</table>\n",
       "</div>"
      ],
      "text/plain": [
       "             Feature  Importance score\n",
       "7   distance_to_goal              37.3\n",
       "0           duration              15.3\n",
       "13    type_Open_Play              13.9\n",
       "22    body_part_Head              11.7\n",
       "3          open_goal              11.3"
      ]
     },
     "execution_count": 46,
     "metadata": {},
     "output_type": "execute_result"
    }
   ],
   "source": [
    "imp = pd.DataFrame({'Feature' : X_train.columns, \n",
    "              'Importance score': 100*dtc_cv.best_estimator_.feature_importances_}).round(1)\n",
    "\n",
    "imp.sort_values(by='Importance score', ascending=False).head(5)"
   ]
  },
  {
   "cell_type": "markdown",
   "metadata": {
    "id": "VXit6fis4H-3"
   },
   "source": [
    "Random Forest"
   ]
  },
  {
   "cell_type": "code",
   "execution_count": null,
   "metadata": {
    "colab": {
     "base_uri": "https://localhost:8080/"
    },
    "id": "igEZy31b0TZK",
    "outputId": "4e216afc-d2d9-4f9c-f7c2-e2f78700262d"
   },
   "outputs": [
    {
     "name": "stdout",
     "output_type": "stream",
     "text": [
      "Fitting 5 folds for each of 26 candidates, totalling 130 fits\n"
     ]
    },
    {
     "data": {
      "text/plain": [
       "GridSearchCV(cv=5, estimator=RandomForestClassifier(random_state=1),\n",
       "             param_grid={'max_features': range(1, 27)}, scoring='accuracy',\n",
       "             verbose=1)"
      ]
     },
     "execution_count": 47,
     "metadata": {},
     "output_type": "execute_result"
    }
   ],
   "source": [
    "grid_values = {'max_features': range(1, len(X_train.columns)+1)}\n",
    "           \n",
    "rf = RandomForestClassifier(random_state=1)\n",
    "rf_cv = GridSearchCV(rf, param_grid = grid_values, scoring = 'accuracy', cv=5, verbose=1)\n",
    "rf_cv.fit(X_train, y_train)"
   ]
  },
  {
   "cell_type": "code",
   "execution_count": null,
   "metadata": {
    "colab": {
     "base_uri": "https://localhost:8080/"
    },
    "id": "r5R5cRav5tlD",
    "outputId": "b2ed548e-b9b3-408a-dce1-6e23f0dca8ec"
   },
   "outputs": [
    {
     "name": "stdout",
     "output_type": "stream",
     "text": [
      "Best max_features is 19\n"
     ]
    }
   ],
   "source": [
    "print(\"Best max_features is\", rf_cv.best_params_['max_features'])"
   ]
  },
  {
   "cell_type": "code",
   "execution_count": null,
   "metadata": {
    "colab": {
     "base_uri": "https://localhost:8080/"
    },
    "id": "sreOIdd35tr9",
    "outputId": "99c2df76-0a0a-4942-9413-c6a2e7a4be98"
   },
   "outputs": [
    {
     "name": "stdout",
     "output_type": "stream",
     "text": [
      "Random Forest Accuracy: 0.8802120501580182\n",
      "Random Forest AUC: 0.825483350240888\n"
     ]
    }
   ],
   "source": [
    "y_pred = rf_cv.best_estimator_.predict(X_test)\n",
    "y_prob = rf_cv.best_estimator_.predict_proba(X_test)[:,1]\n",
    "\n",
    "rf_cv_acc = accuracy_score(y_test, y_pred)\n",
    "rf_cv_auc = roc_auc_score(np.array(y_test), y_prob)\n",
    "print('Random Forest Accuracy:', rf_cv_acc)\n",
    "print('Random Forest AUC:', rf_cv_auc)"
   ]
  },
  {
   "cell_type": "code",
   "execution_count": null,
   "metadata": {
    "colab": {
     "base_uri": "https://localhost:8080/",
     "height": 204
    },
    "id": "PPL1f142HW0L",
    "outputId": "ddb6bbcb-b38c-43c4-aa7d-728fd49c35eb"
   },
   "outputs": [
    {
     "data": {
      "text/html": [
       "<div>\n",
       "<style scoped>\n",
       "    .dataframe tbody tr th:only-of-type {\n",
       "        vertical-align: middle;\n",
       "    }\n",
       "\n",
       "    .dataframe tbody tr th {\n",
       "        vertical-align: top;\n",
       "    }\n",
       "\n",
       "    .dataframe thead th {\n",
       "        text-align: right;\n",
       "    }\n",
       "</style>\n",
       "<table border=\"1\" class=\"dataframe\">\n",
       "  <thead>\n",
       "    <tr style=\"text-align: right;\">\n",
       "      <th></th>\n",
       "      <th>Feature</th>\n",
       "      <th>Importance score</th>\n",
       "    </tr>\n",
       "  </thead>\n",
       "  <tbody>\n",
       "    <tr>\n",
       "      <th>0</th>\n",
       "      <td>duration</td>\n",
       "      <td>37.9</td>\n",
       "    </tr>\n",
       "    <tr>\n",
       "      <th>7</th>\n",
       "      <td>distance_to_goal</td>\n",
       "      <td>37.7</td>\n",
       "    </tr>\n",
       "    <tr>\n",
       "      <th>3</th>\n",
       "      <td>open_goal</td>\n",
       "      <td>2.6</td>\n",
       "    </tr>\n",
       "    <tr>\n",
       "      <th>22</th>\n",
       "      <td>body_part_Head</td>\n",
       "      <td>2.5</td>\n",
       "    </tr>\n",
       "    <tr>\n",
       "      <th>8</th>\n",
       "      <td>goal_zone</td>\n",
       "      <td>2.5</td>\n",
       "    </tr>\n",
       "  </tbody>\n",
       "</table>\n",
       "</div>"
      ],
      "text/plain": [
       "             Feature  Importance score\n",
       "0           duration              37.9\n",
       "7   distance_to_goal              37.7\n",
       "3          open_goal               2.6\n",
       "22    body_part_Head               2.5\n",
       "8          goal_zone               2.5"
      ]
     },
     "execution_count": 50,
     "metadata": {},
     "output_type": "execute_result"
    }
   ],
   "source": [
    "imp = pd.DataFrame({'Feature' : X_train.columns, \n",
    "              'Importance score': 100*rf_cv.best_estimator_.feature_importances_}).round(1)\n",
    "\n",
    "imp.sort_values(by='Importance score', ascending=False).head(5)"
   ]
  },
  {
   "cell_type": "markdown",
   "metadata": {
    "id": "Fio6aq999U_b"
   },
   "source": [
    "\"Vanilla Bagging\""
   ]
  },
  {
   "cell_type": "code",
   "execution_count": null,
   "metadata": {
    "id": "cqaG6NfN5txW"
   },
   "outputs": [],
   "source": [
    "bag = RandomForestClassifier(max_features = len(X_train.columns))\n",
    "bag.fit(X_train, y_train);"
   ]
  },
  {
   "cell_type": "code",
   "execution_count": null,
   "metadata": {
    "colab": {
     "base_uri": "https://localhost:8080/"
    },
    "id": "12bQOiMG5t2O",
    "outputId": "d7de48d6-3a2e-4857-d56a-87eef16f1a47"
   },
   "outputs": [
    {
     "name": "stdout",
     "output_type": "stream",
     "text": [
      "Bagging Accuracy: 0.8785808950963401\n",
      "Bagging AUC: 0.8192005818679963\n"
     ]
    }
   ],
   "source": [
    "y_pred = bag.predict(X_test)\n",
    "y_prob = bag.predict_proba(X_test)[:,1]\n",
    "\n",
    "bag_acc = accuracy_score(y_test, y_pred)\n",
    "bag_auc = roc_auc_score(np.array(y_test), y_prob)\n",
    "print('Bagging Accuracy:', bag_acc)\n",
    "print('Bagging AUC:', bag_auc)"
   ]
  },
  {
   "cell_type": "code",
   "execution_count": null,
   "metadata": {
    "colab": {
     "base_uri": "https://localhost:8080/",
     "height": 204
    },
    "id": "7mQEe9CcH2ms",
    "outputId": "b750c9ab-9759-4132-c3ee-3e14854d0544"
   },
   "outputs": [
    {
     "data": {
      "text/html": [
       "<div>\n",
       "<style scoped>\n",
       "    .dataframe tbody tr th:only-of-type {\n",
       "        vertical-align: middle;\n",
       "    }\n",
       "\n",
       "    .dataframe tbody tr th {\n",
       "        vertical-align: top;\n",
       "    }\n",
       "\n",
       "    .dataframe thead th {\n",
       "        text-align: right;\n",
       "    }\n",
       "</style>\n",
       "<table border=\"1\" class=\"dataframe\">\n",
       "  <thead>\n",
       "    <tr style=\"text-align: right;\">\n",
       "      <th></th>\n",
       "      <th>Feature</th>\n",
       "      <th>Importance score</th>\n",
       "    </tr>\n",
       "  </thead>\n",
       "  <tbody>\n",
       "    <tr>\n",
       "      <th>7</th>\n",
       "      <td>distance_to_goal</td>\n",
       "      <td>38.2</td>\n",
       "    </tr>\n",
       "    <tr>\n",
       "      <th>0</th>\n",
       "      <td>duration</td>\n",
       "      <td>37.9</td>\n",
       "    </tr>\n",
       "    <tr>\n",
       "      <th>22</th>\n",
       "      <td>body_part_Head</td>\n",
       "      <td>2.9</td>\n",
       "    </tr>\n",
       "    <tr>\n",
       "      <th>3</th>\n",
       "      <td>open_goal</td>\n",
       "      <td>2.8</td>\n",
       "    </tr>\n",
       "    <tr>\n",
       "      <th>14</th>\n",
       "      <td>type_Penalty</td>\n",
       "      <td>2.3</td>\n",
       "    </tr>\n",
       "  </tbody>\n",
       "</table>\n",
       "</div>"
      ],
      "text/plain": [
       "             Feature  Importance score\n",
       "7   distance_to_goal              38.2\n",
       "0           duration              37.9\n",
       "22    body_part_Head               2.9\n",
       "3          open_goal               2.8\n",
       "14      type_Penalty               2.3"
      ]
     },
     "execution_count": 53,
     "metadata": {},
     "output_type": "execute_result"
    }
   ],
   "source": [
    "imp = pd.DataFrame({'Feature' : X_train.columns, \n",
    "              'Importance score': 100*bag.feature_importances_}).round(1)\n",
    "\n",
    "imp.sort_values(by='Importance score', ascending=False).head(5)"
   ]
  },
  {
   "cell_type": "markdown",
   "metadata": {
    "id": "P0Wj6Vd193Ae"
   },
   "source": [
    "Gradient Boosting Tree"
   ]
  },
  {
   "cell_type": "code",
   "execution_count": null,
   "metadata": {
    "colab": {
     "base_uri": "https://localhost:8080/"
    },
    "id": "V-2eZaeT5t7K",
    "outputId": "9bf7b25b-254e-4460-9b85-19f8fdc1c1f7"
   },
   "outputs": [
    {
     "name": "stdout",
     "output_type": "stream",
     "text": [
      "Fitting 5 folds for each of 10 candidates, totalling 50 fits\n"
     ]
    },
    {
     "data": {
      "text/plain": [
       "GridSearchCV(cv=5, estimator=GradientBoostingClassifier(random_state=1),\n",
       "             param_grid={'n_estimators': range(20, 111, 10)},\n",
       "             scoring='accuracy', verbose=1)"
      ]
     },
     "execution_count": 54,
     "metadata": {},
     "output_type": "execute_result"
    }
   ],
   "source": [
    "grid_values = {'n_estimators': range(20,111,10)}\n",
    "\n",
    "gbc = GradientBoostingClassifier(random_state=1)\n",
    "gbc_cv = GridSearchCV(gbc, param_grid = grid_values, scoring = 'accuracy', cv=5, verbose=1)\n",
    "gbc_cv.fit(X_train, y_train)"
   ]
  },
  {
   "cell_type": "code",
   "execution_count": null,
   "metadata": {
    "colab": {
     "base_uri": "https://localhost:8080/"
    },
    "id": "su8jDjVt_6nP",
    "outputId": "4748f3ad-fce8-4910-9f6d-af3dd4903a74"
   },
   "outputs": [
    {
     "name": "stdout",
     "output_type": "stream",
     "text": [
      "Best n_estimators is 110\n"
     ]
    }
   ],
   "source": [
    "print(\"Best n_estimators is\", gbc_cv.best_params_['n_estimators'])"
   ]
  },
  {
   "cell_type": "code",
   "execution_count": null,
   "metadata": {
    "colab": {
     "base_uri": "https://localhost:8080/"
    },
    "id": "yTC1YIGB5uDW",
    "outputId": "e3a822e9-475a-423a-f163-ee20449d8d0b"
   },
   "outputs": [
    {
     "name": "stdout",
     "output_type": "stream",
     "text": [
      "Gradient Boosting Accuracy: 0.8926496075033132\n",
      "Gradient Boosting AUC: 0.8675513011298457\n"
     ]
    }
   ],
   "source": [
    "y_pred = gbc_cv.best_estimator_.predict(X_test)\n",
    "y_prob = gbc_cv.best_estimator_.predict_proba(X_test)[:,1]\n",
    "\n",
    "gbc_acc = accuracy_score(y_test, y_pred)\n",
    "gbc_auc = roc_auc_score(np.array(y_test), y_prob)\n",
    "print('Gradient Boosting Accuracy:', gbc_acc)\n",
    "print('Gradient Boosting AUC:', gbc_auc)"
   ]
  },
  {
   "cell_type": "code",
   "execution_count": null,
   "metadata": {
    "colab": {
     "base_uri": "https://localhost:8080/",
     "height": 204
    },
    "id": "lvUUB5cQAZD_",
    "outputId": "4ed05032-ac11-4777-89a9-6a69c08f771b"
   },
   "outputs": [
    {
     "data": {
      "text/html": [
       "<div>\n",
       "<style scoped>\n",
       "    .dataframe tbody tr th:only-of-type {\n",
       "        vertical-align: middle;\n",
       "    }\n",
       "\n",
       "    .dataframe tbody tr th {\n",
       "        vertical-align: top;\n",
       "    }\n",
       "\n",
       "    .dataframe thead th {\n",
       "        text-align: right;\n",
       "    }\n",
       "</style>\n",
       "<table border=\"1\" class=\"dataframe\">\n",
       "  <thead>\n",
       "    <tr style=\"text-align: right;\">\n",
       "      <th></th>\n",
       "      <th>Feature</th>\n",
       "      <th>Importance score</th>\n",
       "    </tr>\n",
       "  </thead>\n",
       "  <tbody>\n",
       "    <tr>\n",
       "      <th>7</th>\n",
       "      <td>distance_to_goal</td>\n",
       "      <td>32.7</td>\n",
       "    </tr>\n",
       "    <tr>\n",
       "      <th>0</th>\n",
       "      <td>duration</td>\n",
       "      <td>22.5</td>\n",
       "    </tr>\n",
       "    <tr>\n",
       "      <th>22</th>\n",
       "      <td>body_part_Head</td>\n",
       "      <td>9.9</td>\n",
       "    </tr>\n",
       "    <tr>\n",
       "      <th>14</th>\n",
       "      <td>type_Penalty</td>\n",
       "      <td>9.3</td>\n",
       "    </tr>\n",
       "    <tr>\n",
       "      <th>3</th>\n",
       "      <td>open_goal</td>\n",
       "      <td>6.7</td>\n",
       "    </tr>\n",
       "  </tbody>\n",
       "</table>\n",
       "</div>"
      ],
      "text/plain": [
       "             Feature  Importance score\n",
       "7   distance_to_goal              32.7\n",
       "0           duration              22.5\n",
       "22    body_part_Head               9.9\n",
       "14      type_Penalty               9.3\n",
       "3          open_goal               6.7"
      ]
     },
     "execution_count": 57,
     "metadata": {},
     "output_type": "execute_result"
    }
   ],
   "source": [
    "imp = pd.DataFrame({'Feature' : X_train.columns, \n",
    "              'Importance score': 100*gbc_cv.best_estimator_.feature_importances_}).round(1)\n",
    "\n",
    "imp.sort_values(by='Importance score', ascending=False).head(5)"
   ]
  },
  {
   "cell_type": "markdown",
   "metadata": {
    "id": "G4aRd9c5ZUfh"
   },
   "source": [
    "Performance Table"
   ]
  },
  {
   "cell_type": "code",
   "execution_count": null,
   "metadata": {
    "colab": {
     "base_uri": "https://localhost:8080/",
     "height": 173
    },
    "id": "55_O6cRRAZJy",
    "outputId": "386c5145-1359-4eea-f051-cc3ed386041c"
   },
   "outputs": [
    {
     "data": {
      "text/html": [
       "<div>\n",
       "<style scoped>\n",
       "    .dataframe tbody tr th:only-of-type {\n",
       "        vertical-align: middle;\n",
       "    }\n",
       "\n",
       "    .dataframe tbody tr th {\n",
       "        vertical-align: top;\n",
       "    }\n",
       "\n",
       "    .dataframe thead th {\n",
       "        text-align: right;\n",
       "    }\n",
       "</style>\n",
       "<table border=\"1\" class=\"dataframe\">\n",
       "  <thead>\n",
       "    <tr style=\"text-align: right;\">\n",
       "      <th></th>\n",
       "      <th>Model</th>\n",
       "      <th>Accuracy</th>\n",
       "      <th>AUC</th>\n",
       "    </tr>\n",
       "  </thead>\n",
       "  <tbody>\n",
       "    <tr>\n",
       "      <th>0</th>\n",
       "      <td>CART</td>\n",
       "      <td>0.887960</td>\n",
       "      <td>0.828340</td>\n",
       "    </tr>\n",
       "    <tr>\n",
       "      <th>1</th>\n",
       "      <td>Random Forest</td>\n",
       "      <td>0.880212</td>\n",
       "      <td>0.825483</td>\n",
       "    </tr>\n",
       "    <tr>\n",
       "      <th>2</th>\n",
       "      <td>Vanilla Bagging</td>\n",
       "      <td>0.878581</td>\n",
       "      <td>0.819201</td>\n",
       "    </tr>\n",
       "    <tr>\n",
       "      <th>3</th>\n",
       "      <td>Gradient Boosting</td>\n",
       "      <td>0.892650</td>\n",
       "      <td>0.867551</td>\n",
       "    </tr>\n",
       "  </tbody>\n",
       "</table>\n",
       "</div>"
      ],
      "text/plain": [
       "               Model  Accuracy       AUC\n",
       "0               CART  0.887960  0.828340\n",
       "1      Random Forest  0.880212  0.825483\n",
       "2    Vanilla Bagging  0.878581  0.819201\n",
       "3  Gradient Boosting  0.892650  0.867551"
      ]
     },
     "execution_count": 58,
     "metadata": {},
     "output_type": "execute_result"
    }
   ],
   "source": [
    "metrics = {'Model':  ['CART', 'Random Forest', 'Vanilla Bagging', 'Gradient Boosting'],\n",
    "        'Accuracy': [dtc_cv_acc, rf_cv_acc, bag_acc, gbc_acc],\n",
    "       'AUC': [dtc_cv_auc, rf_cv_auc, bag_auc, gbc_auc]\n",
    "        }\n",
    "performance = pd.DataFrame(metrics)\n",
    "performance"
   ]
  },
  {
   "cell_type": "markdown",
   "metadata": {
    "id": "PQC2knPuIe6o"
   },
   "source": [
    "#### 2. Oversampling the Minority Class"
   ]
  },
  {
   "cell_type": "code",
   "execution_count": null,
   "metadata": {
    "id": "NXVL4ZWQAZOl"
   },
   "outputs": [],
   "source": [
    "from imblearn.over_sampling import RandomOverSampler\n",
    "from sklearn import preprocessing\n",
    "from sklearn.discriminant_analysis import LinearDiscriminantAnalysis"
   ]
  },
  {
   "cell_type": "code",
   "execution_count": null,
   "metadata": {
    "id": "98-DCfR-AZTG"
   },
   "outputs": [],
   "source": [
    "ros = RandomOverSampler(random_state=42)\n",
    "X_ros, y_ros = ros.fit_resample(X_train, y_train)"
   ]
  },
  {
   "cell_type": "code",
   "execution_count": null,
   "metadata": {
    "id": "5Sug2WWlbQDy"
   },
   "outputs": [],
   "source": [
    "scaler = preprocessing.StandardScaler().fit(X_ros)\n",
    "X_scaled = scaler.transform(X_ros)\n",
    "X_scaled_test = scaler.transform(X_test)"
   ]
  },
  {
   "cell_type": "markdown",
   "metadata": {
    "id": "D3zwbz7na13n"
   },
   "source": [
    "##### Logistic Regression with Over Sampling and Scaling Data\n"
   ]
  },
  {
   "cell_type": "code",
   "execution_count": null,
   "metadata": {
    "colab": {
     "base_uri": "https://localhost:8080/"
    },
    "id": "gZ29swP3an2z",
    "outputId": "89b5065b-14e1-4a6c-9e6b-77ef71952f95"
   },
   "outputs": [
    {
     "data": {
      "text/plain": [
       "LogisticRegression(random_state=1)"
      ]
     },
     "execution_count": 69,
     "metadata": {},
     "output_type": "execute_result"
    }
   ],
   "source": [
    "logreg = LogisticRegression(random_state=1)\n",
    "logreg.fit(X_scaled, y_ros)"
   ]
  },
  {
   "cell_type": "code",
   "execution_count": null,
   "metadata": {
    "colab": {
     "base_uri": "https://localhost:8080/"
    },
    "id": "m4nQSu48an_q",
    "outputId": "59be5e89-d24a-417a-da97-b99d2e0b1b4b"
   },
   "outputs": [
    {
     "name": "stdout",
     "output_type": "stream",
     "text": [
      "Logistic Regression Accuracy: 0.7538994800693241\n",
      "Logistic Regression AUC: 0.7465528888798666\n"
     ]
    }
   ],
   "source": [
    "y_prob = logreg.predict(X_scaled_test)\n",
    "y_pred = (y_prob >= .5).astype(int)\n",
    "\n",
    "log_acc = accuracy_score(y_test, y_pred)\n",
    "log_auc = roc_auc_score(np.array(y_test), y_prob)\n",
    "print('Logistic Regression Accuracy:', log_acc)\n",
    "print('Logistic Regression AUC:', log_auc)"
   ]
  },
  {
   "cell_type": "markdown",
   "metadata": {
    "id": "sYsIexIKcZ6U"
   },
   "source": [
    "##### LDA with Over Sampling and Scaling Data"
   ]
  },
  {
   "cell_type": "code",
   "execution_count": null,
   "metadata": {
    "colab": {
     "base_uri": "https://localhost:8080/"
    },
    "id": "TBlxGp9OaoHo",
    "outputId": "90a8949e-e790-4f72-dc80-071bb9115488"
   },
   "outputs": [
    {
     "data": {
      "text/plain": [
       "LinearDiscriminantAnalysis()"
      ]
     },
     "execution_count": 75,
     "metadata": {},
     "output_type": "execute_result"
    }
   ],
   "source": [
    "lda = LinearDiscriminantAnalysis()\n",
    "lda.fit(X_scaled, y_ros)"
   ]
  },
  {
   "cell_type": "code",
   "execution_count": null,
   "metadata": {
    "colab": {
     "base_uri": "https://localhost:8080/"
    },
    "id": "-OYUB2PNaoPL",
    "outputId": "d625a90a-dbab-484e-c243-87476b8c01e6"
   },
   "outputs": [
    {
     "name": "stdout",
     "output_type": "stream",
     "text": [
      "LDA Accuracy: 0.7459475991436436\n",
      "LDA AUC: 0.8233490886555477\n"
     ]
    }
   ],
   "source": [
    "lda_pred = lda.predict(X_scaled_test)\n",
    "lda_prob = lda.predict_proba(X_scaled_test)[:,1]\n",
    "\n",
    "lda_acc = accuracy_score(y_test, lda_pred)\n",
    "lda_auc = roc_auc_score(np.array(y_test), lda_prob)\n",
    "print('LDA Accuracy:', lda_acc)\n",
    "print('LDA AUC:', lda_auc)"
   ]
  },
  {
   "cell_type": "markdown",
   "metadata": {
    "id": "kF2utygdd28g"
   },
   "source": [
    "Performance"
   ]
  },
  {
   "cell_type": "code",
   "execution_count": null,
   "metadata": {
    "colab": {
     "base_uri": "https://localhost:8080/",
     "height": 128
    },
    "id": "OabM9FadaoXA",
    "outputId": "57c287bf-bece-428c-96e5-b824f96fd37b"
   },
   "outputs": [
    {
     "name": "stdout",
     "output_type": "stream",
     "text": [
      "With Over-Sampling and Scaling\n"
     ]
    },
    {
     "data": {
      "text/html": [
       "<div>\n",
       "<style scoped>\n",
       "    .dataframe tbody tr th:only-of-type {\n",
       "        vertical-align: middle;\n",
       "    }\n",
       "\n",
       "    .dataframe tbody tr th {\n",
       "        vertical-align: top;\n",
       "    }\n",
       "\n",
       "    .dataframe thead th {\n",
       "        text-align: right;\n",
       "    }\n",
       "</style>\n",
       "<table border=\"1\" class=\"dataframe\">\n",
       "  <thead>\n",
       "    <tr style=\"text-align: right;\">\n",
       "      <th></th>\n",
       "      <th>Model</th>\n",
       "      <th>Accuracy</th>\n",
       "      <th>AUC</th>\n",
       "    </tr>\n",
       "  </thead>\n",
       "  <tbody>\n",
       "    <tr>\n",
       "      <th>0</th>\n",
       "      <td>Logistic Regression</td>\n",
       "      <td>0.753899</td>\n",
       "      <td>0.746553</td>\n",
       "    </tr>\n",
       "    <tr>\n",
       "      <th>1</th>\n",
       "      <td>LDA</td>\n",
       "      <td>0.745948</td>\n",
       "      <td>0.823349</td>\n",
       "    </tr>\n",
       "  </tbody>\n",
       "</table>\n",
       "</div>"
      ],
      "text/plain": [
       "                 Model  Accuracy       AUC\n",
       "0  Logistic Regression  0.753899  0.746553\n",
       "1                  LDA  0.745948  0.823349"
      ]
     },
     "execution_count": 78,
     "metadata": {},
     "output_type": "execute_result"
    }
   ],
   "source": [
    "metrics = {'Model':  ['Logistic Regression', 'LDA'],\n",
    "        'Accuracy': [log_acc, lda_acc],\n",
    "       'AUC': [log_auc, lda_auc]\n",
    "        }\n",
    "performance = pd.DataFrame(metrics)\n",
    "print(\"With Over-Sampling and Scaling\")\n",
    "performance"
   ]
  },
  {
   "cell_type": "markdown",
   "metadata": {
    "id": "jROkReOEeOna"
   },
   "source": [
    "#### 3. Cross-Validating a Class Imbalance Parameter"
   ]
  },
  {
   "cell_type": "markdown",
   "metadata": {
    "id": "6hLukyq9sHHI"
   },
   "source": [
    "XGB Classifier"
   ]
  },
  {
   "cell_type": "code",
   "execution_count": null,
   "metadata": {
    "id": "H99rFv19aogA"
   },
   "outputs": [],
   "source": [
    "import xgboost as xgb"
   ]
  },
  {
   "cell_type": "code",
   "execution_count": null,
   "metadata": {
    "colab": {
     "base_uri": "https://localhost:8080/"
    },
    "id": "jc6gy9jylwWp",
    "outputId": "2cfd44eb-67e2-4921-c7e7-70283d7a49d0"
   },
   "outputs": [
    {
     "data": {
      "text/plain": [
       "7.106809078771696"
      ]
     },
     "execution_count": 80,
     "metadata": {},
     "output_type": "execute_result"
    }
   ],
   "source": [
    "(y_train==False).sum()/(y_train==True).sum()"
   ]
  },
  {
   "cell_type": "code",
   "execution_count": null,
   "metadata": {
    "id": "H9V-SinUmM5L"
   },
   "outputs": [],
   "source": [
    "weights = [1, 7, 10, 25, 50, 75, 100, 1000]\n",
    "n_estimators = range(50, 400, 50)\n",
    "grid_values = {'scale_pos_weight': weights,\n",
    "               'n_estimators': n_estimators}"
   ]
  },
  {
   "cell_type": "code",
   "execution_count": null,
   "metadata": {
    "colab": {
     "base_uri": "https://localhost:8080/"
    },
    "id": "5QPA1mdueMjB",
    "outputId": "1080ca48-8a02-44b4-ab3d-b70b0b2fcbc3"
   },
   "outputs": [
    {
     "name": "stdout",
     "output_type": "stream",
     "text": [
      "Fitting 5 folds for each of 56 candidates, totalling 280 fits\n"
     ]
    },
    {
     "data": {
      "text/plain": [
       "GridSearchCV(cv=5, estimator=XGBClassifier(alpha=10, max_depth=5),\n",
       "             param_grid={'n_estimators': range(50, 400, 50),\n",
       "                         'scale_pos_weight': [1, 7, 10, 25, 50, 75, 100, 1000]},\n",
       "             scoring='accuracy', verbose=1)"
      ]
     },
     "execution_count": 84,
     "metadata": {},
     "output_type": "execute_result"
    }
   ],
   "source": [
    "XGB = xgb.XGBClassifier(objective = \"binary:logistic\", learning_rate = 0.1, max_depth = 5, alpha = 10)\n",
    "XGB_cv = GridSearchCV(XGB, param_grid = grid_values, scoring='accuracy', cv=5, verbose=1)\n",
    "XGB_cv.fit(X_train, y_train)"
   ]
  },
  {
   "cell_type": "code",
   "execution_count": null,
   "metadata": {
    "colab": {
     "base_uri": "https://localhost:8080/"
    },
    "id": "Qj3DsFZ0eM3q",
    "outputId": "9e7dab05-ac59-474d-82ed-0f5e648ad539"
   },
   "outputs": [
    {
     "name": "stdout",
     "output_type": "stream",
     "text": [
      "Best scale_pos_weight is 1\n",
      "Best n_estimators is 50\n"
     ]
    }
   ],
   "source": [
    "print(\"Best scale_pos_weight is\", XGB_cv.best_params_['scale_pos_weight'])\n",
    "print(\"Best n_estimators is\", XGB_cv.best_params_['n_estimators'])"
   ]
  },
  {
   "cell_type": "code",
   "execution_count": null,
   "metadata": {
    "colab": {
     "base_uri": "https://localhost:8080/"
    },
    "id": "-T7I87ZXeM_3",
    "outputId": "306124bc-38a8-4e22-f81e-cfa2eec9c9a8"
   },
   "outputs": [
    {
     "name": "stdout",
     "output_type": "stream",
     "text": [
      "XGB Accuracy: 0.8907126108675706\n",
      "XGB AUC: 0.8677775653760348\n"
     ]
    }
   ],
   "source": [
    "y_pred = XGB_cv.best_estimator_.predict(X_test)\n",
    "y_prob = XGB_cv.best_estimator_.predict_proba(X_test)[:,1]\n",
    "\n",
    "xgb_acc = accuracy_score(y_test, y_pred)\n",
    "xgb_auc = roc_auc_score(np.array(y_test), y_prob)\n",
    "print('XGB Accuracy:', xgb_acc)\n",
    "print('XGB AUC:', xgb_auc)"
   ]
  },
  {
   "cell_type": "code",
   "execution_count": null,
   "metadata": {
    "colab": {
     "base_uri": "https://localhost:8080/",
     "height": 204
    },
    "id": "Sb2MYdCjeNId",
    "outputId": "78ffdc07-f6a4-47ce-9941-9be6e559e912"
   },
   "outputs": [
    {
     "data": {
      "text/html": [
       "<div>\n",
       "<style scoped>\n",
       "    .dataframe tbody tr th:only-of-type {\n",
       "        vertical-align: middle;\n",
       "    }\n",
       "\n",
       "    .dataframe tbody tr th {\n",
       "        vertical-align: top;\n",
       "    }\n",
       "\n",
       "    .dataframe thead th {\n",
       "        text-align: right;\n",
       "    }\n",
       "</style>\n",
       "<table border=\"1\" class=\"dataframe\">\n",
       "  <thead>\n",
       "    <tr style=\"text-align: right;\">\n",
       "      <th></th>\n",
       "      <th>Feature</th>\n",
       "      <th>Importance score</th>\n",
       "    </tr>\n",
       "  </thead>\n",
       "  <tbody>\n",
       "    <tr>\n",
       "      <th>8</th>\n",
       "      <td>goal_zone</td>\n",
       "      <td>33.599998</td>\n",
       "    </tr>\n",
       "    <tr>\n",
       "      <th>14</th>\n",
       "      <td>type_Penalty</td>\n",
       "      <td>15.100000</td>\n",
       "    </tr>\n",
       "    <tr>\n",
       "      <th>3</th>\n",
       "      <td>open_goal</td>\n",
       "      <td>9.400000</td>\n",
       "    </tr>\n",
       "    <tr>\n",
       "      <th>22</th>\n",
       "      <td>body_part_Head</td>\n",
       "      <td>7.500000</td>\n",
       "    </tr>\n",
       "    <tr>\n",
       "      <th>13</th>\n",
       "      <td>type_Open_Play</td>\n",
       "      <td>4.900000</td>\n",
       "    </tr>\n",
       "  </tbody>\n",
       "</table>\n",
       "</div>"
      ],
      "text/plain": [
       "           Feature  Importance score\n",
       "8        goal_zone         33.599998\n",
       "14    type_Penalty         15.100000\n",
       "3        open_goal          9.400000\n",
       "22  body_part_Head          7.500000\n",
       "13  type_Open_Play          4.900000"
      ]
     },
     "execution_count": 87,
     "metadata": {},
     "output_type": "execute_result"
    }
   ],
   "source": [
    "imp = pd.DataFrame({'Feature' : X_train.columns, \n",
    "              'Importance score': 100*XGB_cv.best_estimator_.feature_importances_}).round(1)\n",
    "\n",
    "imp.sort_values(by='Importance score', ascending=False).head(5)"
   ]
  },
  {
   "cell_type": "markdown",
   "metadata": {
    "id": "MKnffFg-salb"
   },
   "source": [
    "Logistic Regression"
   ]
  },
  {
   "cell_type": "code",
   "execution_count": null,
   "metadata": {
    "id": "TpEDp92AeNUZ"
   },
   "outputs": [],
   "source": [
    "scaler = preprocessing.StandardScaler().fit(X_train)\n",
    "X_scaled_train = scaler.transform(X_train)\n",
    "X_scaled_test = scaler.transform(X_test)"
   ]
  },
  {
   "cell_type": "code",
   "execution_count": null,
   "metadata": {
    "id": "HD7Htq0Rs708"
   },
   "outputs": [],
   "source": [
    "parameter = {'class_weight':[{1: w} for w in [.75, 1, 1.25, 1.5, 1.75, 2]]}"
   ]
  },
  {
   "cell_type": "code",
   "execution_count": null,
   "metadata": {
    "colab": {
     "base_uri": "https://localhost:8080/"
    },
    "id": "aqUEmQoUeNgS",
    "outputId": "ce19245b-8070-4df3-819b-29accf441762"
   },
   "outputs": [
    {
     "name": "stdout",
     "output_type": "stream",
     "text": [
      "Fitting 5 folds for each of 6 candidates, totalling 30 fits\n"
     ]
    },
    {
     "data": {
      "text/plain": [
       "GridSearchCV(cv=5, estimator=LogisticRegression(random_state=1),\n",
       "             param_grid={'class_weight': [{1: 0.75}, {1: 1}, {1: 1.25},\n",
       "                                          {1: 1.5}, {1: 1.75}, {1: 2}]},\n",
       "             scoring='accuracy', verbose=1)"
      ]
     },
     "execution_count": 113,
     "metadata": {},
     "output_type": "execute_result"
    }
   ],
   "source": [
    "log_weight = LogisticRegression(random_state=1)\n",
    "log_cv = GridSearchCV(log_weight, param_grid = parameter, scoring='accuracy', cv=5, verbose=1)\n",
    "log_cv.fit(X_scaled_train, y_train)"
   ]
  },
  {
   "cell_type": "code",
   "execution_count": null,
   "metadata": {
    "colab": {
     "base_uri": "https://localhost:8080/"
    },
    "id": "EaXwCHV_soAY",
    "outputId": "8fb94a69-73a6-44d1-fb7d-f8e48b7be4a9"
   },
   "outputs": [
    {
     "name": "stdout",
     "output_type": "stream",
     "text": [
      "Best class_weight is {1: 1.25}\n"
     ]
    }
   ],
   "source": [
    "print(\"Best class_weight is\", log_cv.best_params_['class_weight'])"
   ]
  },
  {
   "cell_type": "code",
   "execution_count": null,
   "metadata": {
    "colab": {
     "base_uri": "https://localhost:8080/"
    },
    "id": "ZqQlQWyzsoK7",
    "outputId": "3299041f-df99-489e-800a-e20fc2cdb582"
   },
   "outputs": [
    {
     "name": "stdout",
     "output_type": "stream",
     "text": [
      "XGB Accuracy: 0.8875522479355694\n",
      "XGB AUC: 0.6141301293376242\n"
     ]
    }
   ],
   "source": [
    "y_prob = log_cv.best_estimator_.predict(X_scaled_test)\n",
    "y_pred = (y_prob >= .5).astype(int)\n",
    "\n",
    "log_acc = accuracy_score(y_test, y_pred)\n",
    "log_auc = roc_auc_score(np.array(y_test), y_prob)\n",
    "print('XGB Accuracy:', log_acc)\n",
    "print('XGB AUC:', log_auc)"
   ]
  },
  {
   "cell_type": "code",
   "execution_count": null,
   "metadata": {
    "colab": {
     "base_uri": "https://localhost:8080/",
     "height": 128
    },
    "id": "qeKX3FfrsoUL",
    "outputId": "d6c40091-70ca-4003-b658-ffb7653ea1f1"
   },
   "outputs": [
    {
     "name": "stdout",
     "output_type": "stream",
     "text": [
      "Cross-Validating Class Weight Parameters\n"
     ]
    },
    {
     "data": {
      "text/html": [
       "<div>\n",
       "<style scoped>\n",
       "    .dataframe tbody tr th:only-of-type {\n",
       "        vertical-align: middle;\n",
       "    }\n",
       "\n",
       "    .dataframe tbody tr th {\n",
       "        vertical-align: top;\n",
       "    }\n",
       "\n",
       "    .dataframe thead th {\n",
       "        text-align: right;\n",
       "    }\n",
       "</style>\n",
       "<table border=\"1\" class=\"dataframe\">\n",
       "  <thead>\n",
       "    <tr style=\"text-align: right;\">\n",
       "      <th></th>\n",
       "      <th>Model</th>\n",
       "      <th>Accuracy</th>\n",
       "      <th>AUC</th>\n",
       "    </tr>\n",
       "  </thead>\n",
       "  <tbody>\n",
       "    <tr>\n",
       "      <th>0</th>\n",
       "      <td>XGB</td>\n",
       "      <td>0.890713</td>\n",
       "      <td>0.867778</td>\n",
       "    </tr>\n",
       "    <tr>\n",
       "      <th>1</th>\n",
       "      <td>Logistic Regression</td>\n",
       "      <td>0.887552</td>\n",
       "      <td>0.614130</td>\n",
       "    </tr>\n",
       "  </tbody>\n",
       "</table>\n",
       "</div>"
      ],
      "text/plain": [
       "                 Model  Accuracy       AUC\n",
       "0                  XGB  0.890713  0.867778\n",
       "1  Logistic Regression  0.887552  0.614130"
      ]
     },
     "execution_count": 117,
     "metadata": {},
     "output_type": "execute_result"
    }
   ],
   "source": [
    "metrics = {'Model':  ['XGB', 'Logistic Regression'],\n",
    "        'Accuracy': [xgb_acc, log_acc],\n",
    "       'AUC': [xgb_auc, log_auc]\n",
    "       }\n",
    "performance = pd.DataFrame(metrics)\n",
    "print(\"Cross-Validating Class Weight Parameters\")\n",
    "performance"
   ]
  },
  {
   "cell_type": "markdown",
   "metadata": {
    "id": "LOcD4aQcxrz_"
   },
   "source": [
    "### Bootstrap Comparing the Best Models"
   ]
  },
  {
   "cell_type": "code",
   "execution_count": null,
   "metadata": {
    "colab": {
     "base_uri": "https://localhost:8080/",
     "height": 159
    },
    "id": "hTir2ZMlsodO",
    "outputId": "bccd3feb-e521-416b-c94f-72b55c9332d4"
   },
   "outputs": [
    {
     "name": "stdout",
     "output_type": "stream",
     "text": [
      "Best Performing Models\n"
     ]
    },
    {
     "data": {
      "text/html": [
       "<div>\n",
       "<style scoped>\n",
       "    .dataframe tbody tr th:only-of-type {\n",
       "        vertical-align: middle;\n",
       "    }\n",
       "\n",
       "    .dataframe tbody tr th {\n",
       "        vertical-align: top;\n",
       "    }\n",
       "\n",
       "    .dataframe thead th {\n",
       "        text-align: right;\n",
       "    }\n",
       "</style>\n",
       "<table border=\"1\" class=\"dataframe\">\n",
       "  <thead>\n",
       "    <tr style=\"text-align: right;\">\n",
       "      <th></th>\n",
       "      <th>Model</th>\n",
       "      <th>Accuracy</th>\n",
       "      <th>AUC</th>\n",
       "    </tr>\n",
       "  </thead>\n",
       "  <tbody>\n",
       "    <tr>\n",
       "      <th>0</th>\n",
       "      <td>XGB</td>\n",
       "      <td>0.890713</td>\n",
       "      <td>0.867778</td>\n",
       "    </tr>\n",
       "    <tr>\n",
       "      <th>1</th>\n",
       "      <td>Random Forest</td>\n",
       "      <td>0.880212</td>\n",
       "      <td>0.825483</td>\n",
       "    </tr>\n",
       "    <tr>\n",
       "      <th>2</th>\n",
       "      <td>Gradient Boosting</td>\n",
       "      <td>0.892650</td>\n",
       "      <td>0.867551</td>\n",
       "    </tr>\n",
       "  </tbody>\n",
       "</table>\n",
       "</div>"
      ],
      "text/plain": [
       "               Model  Accuracy       AUC\n",
       "0                XGB  0.890713  0.867778\n",
       "1      Random Forest  0.880212  0.825483\n",
       "2  Gradient Boosting  0.892650  0.867551"
      ]
     },
     "execution_count": 118,
     "metadata": {},
     "output_type": "execute_result"
    }
   ],
   "source": [
    "metrics = {'Model':  ['XGB', 'Random Forest', 'Gradient Boosting'],\n",
    "        'Accuracy': [xgb_acc, rf_cv_acc, gbc_acc],\n",
    "       'AUC': [xgb_auc, rf_cv_auc, gbc_auc]\n",
    "       }\n",
    "performance = pd.DataFrame(metrics)\n",
    "print(\"Best Performing Models\")\n",
    "performance"
   ]
  },
  {
   "cell_type": "code",
   "execution_count": null,
   "metadata": {
    "id": "uvlhMB_5yy0v"
   },
   "outputs": [],
   "source": [
    "rf = rf_cv.best_estimator_\n",
    "xgb = XGB_cv.best_estimator_\n",
    "gbc = gbc_cv.best_estimator_"
   ]
  },
  {
   "cell_type": "code",
   "execution_count": null,
   "metadata": {
    "id": "OUcY0bQmsom5"
   },
   "outputs": [],
   "source": [
    "def bootstrap_comparison(test_data, test_label, model1, model2, sample=500, random_state=1):\n",
    "    \n",
    "    output_array=np.zeros(sample)\n",
    "    output_array[:]=np.nan\n",
    "    \n",
    "    for i in range(sample):\n",
    "        bs_index = np.random.choice(test_data.index, len(test_data.index), replace=True)\n",
    "        bs_data = test_data.loc[bs_index]\n",
    "        bs_label = test_label.loc[bs_index]\n",
    "        \n",
    "        bs_predicted1 = model1.predict(bs_data)\n",
    "        acc1 = accuracy_score(bs_predicted1, bs_label)\n",
    "        \n",
    "        bs_predicted2 = model2.predict(bs_data)\n",
    "        acc2 = accuracy_score(bs_predicted2, bs_label)\n",
    "        \n",
    "        output_array[i] = acc1 - acc2\n",
    "            \n",
    "    output_df = pd.DataFrame(output_array)\n",
    "    return output_df"
   ]
  },
  {
   "cell_type": "code",
   "execution_count": null,
   "metadata": {
    "colab": {
     "base_uri": "https://localhost:8080/"
    },
    "id": "MInndoBTsozg",
    "outputId": "e46e1ad7-c74a-4347-97b5-9b667cf60191"
   },
   "outputs": [
    {
     "data": {
      "text/plain": [
       "(-0.014374553981037819, -0.0062136813130798454)"
      ]
     },
     "execution_count": 122,
     "metadata": {},
     "output_type": "execute_result"
    }
   ],
   "source": [
    "bs = bootstrap_comparison(X_test, y_test, rf, xgb, sample = 5000)\n",
    "np.percentile(bs[0], 2.5), np.percentile(bs[0], 97.5)"
   ]
  },
  {
   "cell_type": "code",
   "execution_count": null,
   "metadata": {
    "colab": {
     "base_uri": "https://localhost:8080/"
    },
    "id": "r4S_r0z80Nvv",
    "outputId": "6128b570-3630-4b5d-9448-e9283eb31c34"
   },
   "outputs": [
    {
     "data": {
      "text/plain": [
       "(-0.016923233764909784, -0.008204200224283828)"
      ]
     },
     "execution_count": 123,
     "metadata": {},
     "output_type": "execute_result"
    }
   ],
   "source": [
    "bs = bootstrap_comparison(X_test, y_test, rf, gbc, sample = 5000)\n",
    "np.percentile(bs[0], 2.5), np.percentile(bs[0], 97.5)"
   ]
  },
  {
   "cell_type": "code",
   "execution_count": null,
   "metadata": {
    "colab": {
     "base_uri": "https://localhost:8080/"
    },
    "id": "v9NhvzUU0N7K",
    "outputId": "bceef418-dd6f-4c6e-89e5-7c0c6726c32e"
   },
   "outputs": [
    {
     "data": {
      "text/plain": [
       "(-0.0035681516974207517, -0.00020389438270973503)"
      ]
     },
     "execution_count": 125,
     "metadata": {},
     "output_type": "execute_result"
    }
   ],
   "source": [
    "bs = bootstrap_comparison(X_test, y_test, xgb, gbc, sample = 5000)\n",
    "np.percentile(bs[0], 2.5), np.percentile(bs[0], 97.5)"
   ]
  },
  {
   "cell_type": "code",
   "execution_count": null,
   "metadata": {
    "id": "F83F-nWT0OFC"
   },
   "outputs": [],
   "source": [
    "def bootstrap_comparison_auc(test_data, test_label, model1, model2, sample=500, random_state=1):\n",
    "    \n",
    "    output_array=np.zeros(sample)\n",
    "    output_array[:]=np.nan\n",
    "    \n",
    "    for i in range(sample):\n",
    "        bs_index = np.random.choice(test_data.index, len(test_data.index), replace=True)\n",
    "        bs_data = test_data.loc[bs_index]\n",
    "        bs_label = test_label.loc[bs_index]\n",
    "        \n",
    "        bs_predicted1 = model1.predict_proba(bs_data)[:,1]\n",
    "        auc1 = roc_auc_score(np.array(bs_label), bs_predicted1)\n",
    "        \n",
    "        bs_predicted2 = model2.predict_proba(bs_data)[:,1]\n",
    "        auc2 = roc_auc_score(np.array(bs_label), bs_predicted2)\n",
    "        \n",
    "        output_array[i] = auc1 - auc2\n",
    "            \n",
    "    output_df = pd.DataFrame(output_array)\n",
    "    return output_df"
   ]
  },
  {
   "cell_type": "code",
   "execution_count": null,
   "metadata": {
    "colab": {
     "base_uri": "https://localhost:8080/"
    },
    "id": "i_YOJ3m00OPI",
    "outputId": "9d402b3f-ecfa-4822-f6b4-0b3df73891d5"
   },
   "outputs": [
    {
     "data": {
      "text/plain": [
       "(-0.04921141637267015, -0.035340727077367864)"
      ]
     },
     "execution_count": 131,
     "metadata": {},
     "output_type": "execute_result"
    }
   ],
   "source": [
    "bs = bootstrap_comparison_auc(X_test, y_test, rf, xgb, sample = 5000)\n",
    "np.percentile(bs[0], 2.5), np.percentile(bs[0], 97.5)"
   ]
  },
  {
   "cell_type": "code",
   "execution_count": null,
   "metadata": {
    "colab": {
     "base_uri": "https://localhost:8080/"
    },
    "id": "kkMe25-U22yz",
    "outputId": "d9e3902b-11e3-4ae0-8831-e39af87176d1"
   },
   "outputs": [
    {
     "data": {
      "text/plain": [
       "(-0.04891349824815752, -0.03571400002289582)"
      ]
     },
     "execution_count": 132,
     "metadata": {},
     "output_type": "execute_result"
    }
   ],
   "source": [
    "bs = bootstrap_comparison_auc(X_test, y_test, rf, gbc, sample = 5000)\n",
    "np.percentile(bs[0], 2.5), np.percentile(bs[0], 97.5)"
   ]
  },
  {
   "cell_type": "code",
   "execution_count": null,
   "metadata": {
    "colab": {
     "base_uri": "https://localhost:8080/"
    },
    "id": "k36JEzgy22-D",
    "outputId": "e25d2729-64eb-451b-fff5-54a9a979c586"
   },
   "outputs": [
    {
     "data": {
      "text/plain": [
       "(-0.002100545548768201, 0.0025719420562038044)"
      ]
     },
     "execution_count": 133,
     "metadata": {},
     "output_type": "execute_result"
    }
   ],
   "source": [
    "bs = bootstrap_comparison_auc(X_test, y_test, xgb, gbc, sample = 5000)\n",
    "np.percentile(bs[0], 2.5), np.percentile(bs[0], 97.5)"
   ]
  },
  {
   "cell_type": "markdown",
   "metadata": {
    "id": "RAetF_TX6uD1"
   },
   "source": [
    "### Based on analysis above, Gradient Boosting Classifier is our chosen model"
   ]
  },
  {
   "cell_type": "code",
   "execution_count": null,
   "metadata": {
    "id": "VBdrFQOT23Hz"
   },
   "outputs": [],
   "source": [
    "def bootstrap_validation_acc(test_data, test_label, model, sample=500, random_state=1):\n",
    "    \n",
    "    output_array=np.zeros(sample)\n",
    "    output_array[:]=np.nan\n",
    "    \n",
    "    for i in range(sample):\n",
    "        bs_index = np.random.choice(test_data.index, len(test_data.index), replace=True)\n",
    "        bs_data = test_data.loc[bs_index]\n",
    "        bs_label = test_label.loc[bs_index]\n",
    "        \n",
    "        bs_predicted = model.predict(bs_data)\n",
    "        acc = accuracy_score(bs_label, bs_predicted)\n",
    "        \n",
    "        output_array[i] = acc\n",
    "            \n",
    "    output_df = pd.DataFrame(output_array)\n",
    "    return output_df"
   ]
  },
  {
   "cell_type": "code",
   "execution_count": null,
   "metadata": {
    "id": "ctHhO0gR23Rm"
   },
   "outputs": [],
   "source": [
    "def bootstrap_validation_auc(test_data, test_label, model, sample=500, random_state=1):\n",
    "    \n",
    "    output_array=np.zeros(sample)\n",
    "    output_array[:]=np.nan\n",
    "    \n",
    "    for i in range(sample):\n",
    "        bs_index = np.random.choice(test_data.index, len(test_data.index), replace=True)\n",
    "        bs_data = test_data.loc[bs_index]\n",
    "        bs_label = test_label.loc[bs_index]\n",
    "        \n",
    "        bs_predicted = model.predict_proba(bs_data)[:,1]\n",
    "        auc = roc_auc_score(np.array(bs_label), bs_predicted)\n",
    "        \n",
    "        output_array[i] = auc\n",
    "            \n",
    "    output_df = pd.DataFrame(output_array)\n",
    "    return output_df"
   ]
  },
  {
   "cell_type": "code",
   "execution_count": null,
   "metadata": {
    "colab": {
     "base_uri": "https://localhost:8080/"
    },
    "id": "Eb7KblDr67Gk",
    "outputId": "b7beaa39-117e-41dd-9d42-848d0de7c792"
   },
   "outputs": [
    {
     "name": "stdout",
     "output_type": "stream",
     "text": [
      "The CI for the test set accuracy of the Gradient Boosting model is ( 0.8866347232133754 , 0.8986644917932511 )\n"
     ]
    }
   ],
   "source": [
    "bs_acc = bootstrap_validation_acc(X_test, y_test, gbc, sample = 5000)\n",
    "print('The CI for the test set accuracy of the Gradient Boosting model is (', \n",
    "      np.percentile(bs_acc[0], 2.5), ',', np.percentile(bs_acc[0], 97.5), ')')"
   ]
  },
  {
   "cell_type": "code",
   "execution_count": null,
   "metadata": {
    "colab": {
     "base_uri": "https://localhost:8080/"
    },
    "id": "zTQ3Iic567Ri",
    "outputId": "54215ea9-3f24-4bd7-eff2-99106d8c4264"
   },
   "outputs": [
    {
     "name": "stdout",
     "output_type": "stream",
     "text": [
      "The CI for the test set AUC of the Gradient Boosting model is ( 0.8579469366636326 , 0.8771939977438896 )\n"
     ]
    }
   ],
   "source": [
    "bs_auc = bootstrap_validation_auc(X_test, y_test, gbc, sample = 5000)\n",
    "print('The CI for the test set AUC of the Gradient Boosting model is (', \n",
    "      np.percentile(bs_auc[0], 2.5), ',', np.percentile(bs_auc[0], 97.5), ')')"
   ]
  },
  {
   "cell_type": "code",
   "execution_count": null,
   "metadata": {
    "colab": {
     "base_uri": "https://localhost:8080/",
     "height": 204
    },
    "id": "hhueJidW67ba",
    "outputId": "29ace57f-8018-41d8-aacb-bd05f5844785"
   },
   "outputs": [
    {
     "data": {
      "text/html": [
       "<div>\n",
       "<style scoped>\n",
       "    .dataframe tbody tr th:only-of-type {\n",
       "        vertical-align: middle;\n",
       "    }\n",
       "\n",
       "    .dataframe tbody tr th {\n",
       "        vertical-align: top;\n",
       "    }\n",
       "\n",
       "    .dataframe thead th {\n",
       "        text-align: right;\n",
       "    }\n",
       "</style>\n",
       "<table border=\"1\" class=\"dataframe\">\n",
       "  <thead>\n",
       "    <tr style=\"text-align: right;\">\n",
       "      <th></th>\n",
       "      <th>Feature</th>\n",
       "      <th>Importance score</th>\n",
       "    </tr>\n",
       "  </thead>\n",
       "  <tbody>\n",
       "    <tr>\n",
       "      <th>7</th>\n",
       "      <td>distance_to_goal</td>\n",
       "      <td>32.7</td>\n",
       "    </tr>\n",
       "    <tr>\n",
       "      <th>0</th>\n",
       "      <td>duration</td>\n",
       "      <td>22.5</td>\n",
       "    </tr>\n",
       "    <tr>\n",
       "      <th>22</th>\n",
       "      <td>body_part_Head</td>\n",
       "      <td>9.9</td>\n",
       "    </tr>\n",
       "    <tr>\n",
       "      <th>14</th>\n",
       "      <td>type_Penalty</td>\n",
       "      <td>9.3</td>\n",
       "    </tr>\n",
       "    <tr>\n",
       "      <th>3</th>\n",
       "      <td>open_goal</td>\n",
       "      <td>6.7</td>\n",
       "    </tr>\n",
       "  </tbody>\n",
       "</table>\n",
       "</div>"
      ],
      "text/plain": [
       "             Feature  Importance score\n",
       "7   distance_to_goal              32.7\n",
       "0           duration              22.5\n",
       "22    body_part_Head               9.9\n",
       "14      type_Penalty               9.3\n",
       "3          open_goal               6.7"
      ]
     },
     "execution_count": 141,
     "metadata": {},
     "output_type": "execute_result"
    }
   ],
   "source": [
    "imp = pd.DataFrame({'Feature' : X_train.columns, \n",
    "              'Importance score': 100*gbc.feature_importances_}).round(1)\n",
    "\n",
    "imp.sort_values(by='Importance score', ascending=False).head(5)"
   ]
  },
  {
   "cell_type": "code",
   "execution_count": null,
   "metadata": {
    "id": "K23FOnEb23cQ"
   },
   "outputs": [],
   "source": []
  }
 ],
 "metadata": {
  "colab": {
   "collapsed_sections": [],
   "name": "FinalProjectCode.ipynb",
   "provenance": [],
   "toc_visible": true
  },
  "kernelspec": {
   "display_name": "Python 3 (ipykernel)",
   "language": "python",
   "name": "python3"
  },
  "language_info": {
   "codemirror_mode": {
    "name": "ipython",
    "version": 3
   },
   "file_extension": ".py",
   "mimetype": "text/x-python",
   "name": "python",
   "nbconvert_exporter": "python",
   "pygments_lexer": "ipython3",
   "version": "3.9.12"
  }
 },
 "nbformat": 4,
 "nbformat_minor": 1
}
